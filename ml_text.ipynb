{
 "cells": [
  {
   "cell_type": "markdown",
   "metadata": {
    "toc": true
   },
   "source": [
    "<h1>Содержание<span class=\"tocSkip\"></span></h1>\n",
    "<div class=\"toc\"><ul class=\"toc-item\"><li><span><a href=\"#Подготовка\" data-toc-modified-id=\"Подготовка-1\"><span class=\"toc-item-num\">1&nbsp;&nbsp;</span>Подготовка</a></span></li><li><span><a href=\"#Обучение\" data-toc-modified-id=\"Обучение-2\"><span class=\"toc-item-num\">2&nbsp;&nbsp;</span>Обучение</a></span><ul class=\"toc-item\"><li><span><a href=\"#Логистическая-регрессия\" data-toc-modified-id=\"Логистическая-регрессия-2.1\"><span class=\"toc-item-num\">2.1&nbsp;&nbsp;</span>Логистическая регрессия</a></span></li><li><span><a href=\"#CatBoostClassifier\" data-toc-modified-id=\"CatBoostClassifier-2.2\"><span class=\"toc-item-num\">2.2&nbsp;&nbsp;</span>CatBoostClassifier</a></span></li><li><span><a href=\"#Тестовая-метрика\" data-toc-modified-id=\"Тестовая-метрика-2.3\"><span class=\"toc-item-num\">2.3&nbsp;&nbsp;</span>Тестовая метрика</a></span></li></ul></li><li><span><a href=\"#Выводы\" data-toc-modified-id=\"Выводы-3\"><span class=\"toc-item-num\">3&nbsp;&nbsp;</span>Выводы</a></span></li><li><span><a href=\"#Чек-лист-проверки\" data-toc-modified-id=\"Чек-лист-проверки-4\"><span class=\"toc-item-num\">4&nbsp;&nbsp;</span>Чек-лист проверки</a></span></li></ul></div>"
   ]
  },
  {
   "cell_type": "markdown",
   "metadata": {},
   "source": [
    "# Проект для «Викишоп»"
   ]
  },
  {
   "cell_type": "markdown",
   "metadata": {},
   "source": [
    "Интернет-магазин «Викишоп» запускает новый сервис. Теперь пользователи могут редактировать и дополнять описания товаров, как в вики-сообществах. То есть клиенты предлагают свои правки и комментируют изменения других. Магазину нужен инструмент, который будет искать токсичные комментарии и отправлять их на модерацию. \n",
    "\n",
    "Обучите модель классифицировать комментарии на позитивные и негативные. В вашем распоряжении набор данных с разметкой о токсичности правок.\n",
    "\n",
    "Постройте модель со значением метрики качества *F1* не меньше 0.75. \n",
    "\n",
    "**Инструкция по выполнению проекта**\n",
    "\n",
    "1. Загрузите и подготовьте данные.\n",
    "2. Обучите разные модели. \n",
    "3. Сделайте выводы.\n",
    "\n",
    "Для выполнения проекта применять *BERT* необязательно, но вы можете попробовать.\n",
    "\n",
    "**Описание данных**\n",
    "\n",
    "Данные находятся в файле `toxic_comments.csv`. Столбец *text* в нём содержит текст комментария, а *toxic* — целевой признак."
   ]
  },
  {
   "cell_type": "markdown",
   "metadata": {},
   "source": [
    "## Подготовка"
   ]
  },
  {
   "cell_type": "code",
   "execution_count": 1,
   "metadata": {
    "scrolled": true
   },
   "outputs": [
    {
     "name": "stderr",
     "output_type": "stream",
     "text": [
      "[nltk_data] Downloading collection 'popular'\n",
      "[nltk_data]    | \n",
      "[nltk_data]    | Downloading package cmudict to\n",
      "[nltk_data]    |     /home/ksenia/nltk_data...\n",
      "[nltk_data]    |   Package cmudict is already up-to-date!\n",
      "[nltk_data]    | Downloading package gazetteers to\n",
      "[nltk_data]    |     /home/ksenia/nltk_data...\n",
      "[nltk_data]    |   Package gazetteers is already up-to-date!\n",
      "[nltk_data]    | Downloading package genesis to\n",
      "[nltk_data]    |     /home/ksenia/nltk_data...\n",
      "[nltk_data]    |   Package genesis is already up-to-date!\n",
      "[nltk_data]    | Downloading package gutenberg to\n",
      "[nltk_data]    |     /home/ksenia/nltk_data...\n",
      "[nltk_data]    |   Package gutenberg is already up-to-date!\n",
      "[nltk_data]    | Downloading package inaugural to\n",
      "[nltk_data]    |     /home/ksenia/nltk_data...\n",
      "[nltk_data]    |   Package inaugural is already up-to-date!\n",
      "[nltk_data]    | Downloading package movie_reviews to\n",
      "[nltk_data]    |     /home/ksenia/nltk_data...\n",
      "[nltk_data]    |   Package movie_reviews is already up-to-date!\n",
      "[nltk_data]    | Downloading package names to\n",
      "[nltk_data]    |     /home/ksenia/nltk_data...\n",
      "[nltk_data]    |   Package names is already up-to-date!\n",
      "[nltk_data]    | Downloading package shakespeare to\n",
      "[nltk_data]    |     /home/ksenia/nltk_data...\n",
      "[nltk_data]    |   Package shakespeare is already up-to-date!\n",
      "[nltk_data]    | Downloading package stopwords to\n",
      "[nltk_data]    |     /home/ksenia/nltk_data...\n",
      "[nltk_data]    |   Package stopwords is already up-to-date!\n",
      "[nltk_data]    | Downloading package treebank to\n",
      "[nltk_data]    |     /home/ksenia/nltk_data...\n",
      "[nltk_data]    |   Package treebank is already up-to-date!\n",
      "[nltk_data]    | Downloading package twitter_samples to\n",
      "[nltk_data]    |     /home/ksenia/nltk_data...\n",
      "[nltk_data]    |   Package twitter_samples is already up-to-date!\n",
      "[nltk_data]    | Downloading package omw to /home/ksenia/nltk_data...\n",
      "[nltk_data]    |   Package omw is already up-to-date!\n",
      "[nltk_data]    | Downloading package omw-1.4 to\n",
      "[nltk_data]    |     /home/ksenia/nltk_data...\n",
      "[nltk_data]    |   Package omw-1.4 is already up-to-date!\n",
      "[nltk_data]    | Downloading package wordnet to\n",
      "[nltk_data]    |     /home/ksenia/nltk_data...\n",
      "[nltk_data]    |   Package wordnet is already up-to-date!\n",
      "[nltk_data]    | Downloading package wordnet2021 to\n",
      "[nltk_data]    |     /home/ksenia/nltk_data...\n",
      "[nltk_data]    |   Package wordnet2021 is already up-to-date!\n",
      "[nltk_data]    | Downloading package wordnet31 to\n",
      "[nltk_data]    |     /home/ksenia/nltk_data...\n",
      "[nltk_data]    |   Package wordnet31 is already up-to-date!\n",
      "[nltk_data]    | Downloading package wordnet_ic to\n",
      "[nltk_data]    |     /home/ksenia/nltk_data...\n",
      "[nltk_data]    |   Package wordnet_ic is already up-to-date!\n",
      "[nltk_data]    | Downloading package words to\n",
      "[nltk_data]    |     /home/ksenia/nltk_data...\n",
      "[nltk_data]    |   Package words is already up-to-date!\n",
      "[nltk_data]    | Downloading package maxent_ne_chunker to\n",
      "[nltk_data]    |     /home/ksenia/nltk_data...\n",
      "[nltk_data]    |   Package maxent_ne_chunker is already up-to-date!\n",
      "[nltk_data]    | Downloading package punkt to\n",
      "[nltk_data]    |     /home/ksenia/nltk_data...\n",
      "[nltk_data]    |   Package punkt is already up-to-date!\n",
      "[nltk_data]    | Downloading package snowball_data to\n",
      "[nltk_data]    |     /home/ksenia/nltk_data...\n",
      "[nltk_data]    |   Package snowball_data is already up-to-date!\n",
      "[nltk_data]    | Downloading package averaged_perceptron_tagger to\n",
      "[nltk_data]    |     /home/ksenia/nltk_data...\n",
      "[nltk_data]    |   Package averaged_perceptron_tagger is already up-\n",
      "[nltk_data]    |       to-date!\n",
      "[nltk_data]    | \n",
      "[nltk_data]  Done downloading collection popular\n",
      "[nltk_data] Downloading package punkt to /home/ksenia/nltk_data...\n",
      "[nltk_data]   Package punkt is already up-to-date!\n",
      "[nltk_data] Downloading package stopwords to /home/ksenia/nltk_data...\n",
      "[nltk_data]   Package stopwords is already up-to-date!\n"
     ]
    },
    {
     "data": {
      "text/plain": [
       "True"
      ]
     },
     "execution_count": 1,
     "metadata": {},
     "output_type": "execute_result"
    }
   ],
   "source": [
    "## установка библиотек\n",
    "!pip install scikit-learn==1.1.3 -q\n",
    "!pip install contractions -q\n",
    "!pip install catboost -q\n",
    "!pip install nltk -q\n",
    "import pandas as pd\n",
    "from matplotlib import pyplot as plt\n",
    "import seaborn as sns \n",
    "import sklearn\n",
    "import re\n",
    "import contractions\n",
    "import time\n",
    "import nltk\n",
    "nltk.download('popular')\n",
    "nltk.download('punkt')\n",
    "nltk.download('stopwords')"
   ]
  },
  {
   "cell_type": "code",
   "execution_count": 2,
   "metadata": {
    "scrolled": true
   },
   "outputs": [],
   "source": [
    "#модули\n",
    "from tqdm.notebook import tqdm\n",
    "tqdm.pandas()\n",
    "from nltk.stem import WordNetLemmatizer\n",
    "from nltk.tokenize import word_tokenize\n",
    "from nltk.corpus import stopwords as nltk_stopwords\n",
    "from nltk.corpus import wordnet\n",
    "from sklearn.pipeline import Pipeline\n",
    "from sklearn.model_selection import train_test_split, GridSearchCV, RandomizedSearchCV\n",
    "from sklearn.linear_model import LogisticRegression\n",
    "from catboost import CatBoostClassifier\n",
    "from sklearn.ensemble import RandomForestClassifier\n",
    "from sklearn.feature_extraction.text import CountVectorizer, TfidfVectorizer\n",
    "from sklearn.metrics import f1_score \n",
    "from nltk.corpus import stopwords \n",
    "\n",
    "#блокировка предупреждений\n",
    "import warnings\n",
    "warnings.filterwarnings(\"ignore\")\n",
    "\n",
    "#константы\n",
    "RANDOM_STATE = 42\n",
    "TEST_SIZE = 0.1"
   ]
  },
  {
   "cell_type": "code",
   "execution_count": 3,
   "metadata": {},
   "outputs": [
    {
     "name": "stdout",
     "output_type": "stream",
     "text": [
      "<class 'pandas.core.frame.DataFrame'>\n",
      "RangeIndex: 159292 entries, 0 to 159291\n",
      "Data columns (total 3 columns):\n",
      " #   Column      Non-Null Count   Dtype \n",
      "---  ------      --------------   ----- \n",
      " 0   Unnamed: 0  159292 non-null  int64 \n",
      " 1   text        159292 non-null  object\n",
      " 2   toxic       159292 non-null  int64 \n",
      "dtypes: int64(2), object(1)\n",
      "memory usage: 3.6+ MB\n"
     ]
    },
    {
     "data": {
      "text/html": [
       "<div>\n",
       "<style scoped>\n",
       "    .dataframe tbody tr th:only-of-type {\n",
       "        vertical-align: middle;\n",
       "    }\n",
       "\n",
       "    .dataframe tbody tr th {\n",
       "        vertical-align: top;\n",
       "    }\n",
       "\n",
       "    .dataframe thead th {\n",
       "        text-align: right;\n",
       "    }\n",
       "</style>\n",
       "<table border=\"1\" class=\"dataframe\">\n",
       "  <thead>\n",
       "    <tr style=\"text-align: right;\">\n",
       "      <th></th>\n",
       "      <th>Unnamed: 0</th>\n",
       "      <th>text</th>\n",
       "      <th>toxic</th>\n",
       "    </tr>\n",
       "  </thead>\n",
       "  <tbody>\n",
       "    <tr>\n",
       "      <th>0</th>\n",
       "      <td>0</td>\n",
       "      <td>Explanation\\nWhy the edits made under my usern...</td>\n",
       "      <td>0</td>\n",
       "    </tr>\n",
       "    <tr>\n",
       "      <th>1</th>\n",
       "      <td>1</td>\n",
       "      <td>D'aww! He matches this background colour I'm s...</td>\n",
       "      <td>0</td>\n",
       "    </tr>\n",
       "    <tr>\n",
       "      <th>2</th>\n",
       "      <td>2</td>\n",
       "      <td>Hey man, I'm really not trying to edit war. It...</td>\n",
       "      <td>0</td>\n",
       "    </tr>\n",
       "    <tr>\n",
       "      <th>3</th>\n",
       "      <td>3</td>\n",
       "      <td>\"\\nMore\\nI can't make any real suggestions on ...</td>\n",
       "      <td>0</td>\n",
       "    </tr>\n",
       "    <tr>\n",
       "      <th>4</th>\n",
       "      <td>4</td>\n",
       "      <td>You, sir, are my hero. Any chance you remember...</td>\n",
       "      <td>0</td>\n",
       "    </tr>\n",
       "  </tbody>\n",
       "</table>\n",
       "</div>"
      ],
      "text/plain": [
       "   Unnamed: 0                                               text  toxic\n",
       "0           0  Explanation\\nWhy the edits made under my usern...      0\n",
       "1           1  D'aww! He matches this background colour I'm s...      0\n",
       "2           2  Hey man, I'm really not trying to edit war. It...      0\n",
       "3           3  \"\\nMore\\nI can't make any real suggestions on ...      0\n",
       "4           4  You, sir, are my hero. Any chance you remember...      0"
      ]
     },
     "execution_count": 3,
     "metadata": {},
     "output_type": "execute_result"
    }
   ],
   "source": [
    "data = pd.read_csv('./toxic_comments.csv')\n",
    "data.info()\n",
    "data.head()"
   ]
  },
  {
   "cell_type": "markdown",
   "metadata": {},
   "source": [
    "Пропусков в данных нет. Все столбцы имеют нужные типы данных. \n",
    "Также стоит убрать ненужный первый столбец. "
   ]
  },
  {
   "cell_type": "code",
   "execution_count": 4,
   "metadata": {},
   "outputs": [],
   "source": [
    "data = data.drop(['Unnamed: 0'], axis=1) #удаление ненужного столбца"
   ]
  },
  {
   "cell_type": "code",
   "execution_count": 5,
   "metadata": {},
   "outputs": [
    {
     "data": {
      "image/png": "[encoded data removed]",
      "text/plain": [
       "<Figure size 640x480 with 1 Axes>"
      ]
     },
     "metadata": {},
     "output_type": "display_data"
    }
   ],
   "source": [
    "data['toxic'].value_counts().plot(kind='bar', \n",
    "                                  color='Purple', \n",
    "                                  xlabel='toxic', \n",
    "                                  ylabel='Частота', \n",
    "                                  title='Распределение классов целевой переменной');"
   ]
  },
  {
   "cell_type": "markdown",
   "metadata": {},
   "source": [
    "В исходной выборке наблюдается несбалансированность классов. Это необходимо учесть при обучении."
   ]
  },
  {
   "cell_type": "code",
   "execution_count": 6,
   "metadata": {},
   "outputs": [],
   "source": [
    "#функция для проставления pos-тегов, чтобы у слов правильно определялась часть речи\n",
    "\n",
    "def get_wordnet_pos(word):\n",
    "    tag = nltk.pos_tag([word])[0][1][0].upper()\n",
    "    tag_dict = {\"J\": wordnet.ADJ,\n",
    "                \"N\": wordnet.NOUN,\n",
    "                \"V\": wordnet.VERB,\n",
    "                \"R\": wordnet.ADV}\n",
    "    return tag_dict.get(tag, wordnet.NOUN)"
   ]
  },
  {
   "cell_type": "code",
   "execution_count": 7,
   "metadata": {},
   "outputs": [],
   "source": [
    "#функция для лемматизации слов\n",
    "\n",
    "def lemmatize(text):\n",
    "    lemmatizer = WordNetLemmatizer()\n",
    "    lemmatized_words = [lemmatizer.lemmatize(w, get_wordnet_pos(w)) for w in nltk.word_tokenize(text)]\n",
    "    lemmatized_words = \" \".join(lemmatized_words)\n",
    "    \n",
    "    return lemmatized_words"
   ]
  },
  {
   "cell_type": "code",
   "execution_count": 8,
   "metadata": {},
   "outputs": [],
   "source": [
    "#функция для очистки текста от знаков препинания, приведение к нижнему регистру \n",
    "\n",
    "def clear_text(text):\n",
    "    text = text.lower()\n",
    "    text = contractions.fix(text)\n",
    "    text = re.sub(r'[^a-zA-Z]', ' ', text)\n",
    "    text_join = \" \".join(text.split())\n",
    "    return text_join"
   ]
  },
  {
   "cell_type": "code",
   "execution_count": 9,
   "metadata": {},
   "outputs": [
    {
     "data": {
      "text/html": [
       "<div>\n",
       "<style scoped>\n",
       "    .dataframe tbody tr th:only-of-type {\n",
       "        vertical-align: middle;\n",
       "    }\n",
       "\n",
       "    .dataframe tbody tr th {\n",
       "        vertical-align: top;\n",
       "    }\n",
       "\n",
       "    .dataframe thead th {\n",
       "        text-align: right;\n",
       "    }\n",
       "</style>\n",
       "<table border=\"1\" class=\"dataframe\">\n",
       "  <thead>\n",
       "    <tr style=\"text-align: right;\">\n",
       "      <th></th>\n",
       "      <th>text</th>\n",
       "      <th>toxic</th>\n",
       "      <th>clean_text</th>\n",
       "    </tr>\n",
       "  </thead>\n",
       "  <tbody>\n",
       "    <tr>\n",
       "      <th>0</th>\n",
       "      <td>Explanation\\nWhy the edits made under my usern...</td>\n",
       "      <td>0</td>\n",
       "      <td>explanation why the edits made under my userna...</td>\n",
       "    </tr>\n",
       "    <tr>\n",
       "      <th>1</th>\n",
       "      <td>D'aww! He matches this background colour I'm s...</td>\n",
       "      <td>0</td>\n",
       "      <td>d aww he matches this background colour i am s...</td>\n",
       "    </tr>\n",
       "    <tr>\n",
       "      <th>2</th>\n",
       "      <td>Hey man, I'm really not trying to edit war. It...</td>\n",
       "      <td>0</td>\n",
       "      <td>hey man i am really not trying to edit war it ...</td>\n",
       "    </tr>\n",
       "    <tr>\n",
       "      <th>3</th>\n",
       "      <td>\"\\nMore\\nI can't make any real suggestions on ...</td>\n",
       "      <td>0</td>\n",
       "      <td>more i cannot make any real suggestions on imp...</td>\n",
       "    </tr>\n",
       "    <tr>\n",
       "      <th>4</th>\n",
       "      <td>You, sir, are my hero. Any chance you remember...</td>\n",
       "      <td>0</td>\n",
       "      <td>you sir are my hero any chance you remember wh...</td>\n",
       "    </tr>\n",
       "  </tbody>\n",
       "</table>\n",
       "</div>"
      ],
      "text/plain": [
       "                                                text  toxic  \\\n",
       "0  Explanation\\nWhy the edits made under my usern...      0   \n",
       "1  D'aww! He matches this background colour I'm s...      0   \n",
       "2  Hey man, I'm really not trying to edit war. It...      0   \n",
       "3  \"\\nMore\\nI can't make any real suggestions on ...      0   \n",
       "4  You, sir, are my hero. Any chance you remember...      0   \n",
       "\n",
       "                                          clean_text  \n",
       "0  explanation why the edits made under my userna...  \n",
       "1  d aww he matches this background colour i am s...  \n",
       "2  hey man i am really not trying to edit war it ...  \n",
       "3  more i cannot make any real suggestions on imp...  \n",
       "4  you sir are my hero any chance you remember wh...  "
      ]
     },
     "execution_count": 9,
     "metadata": {},
     "output_type": "execute_result"
    }
   ],
   "source": [
    "#очистка текста\n",
    "\n",
    "data['clean_text'] = data['text'].apply(clear_text)\n",
    "data.head()"
   ]
  },
  {
   "cell_type": "code",
   "execution_count": 10,
   "metadata": {},
   "outputs": [
    {
     "data": {
      "application/vnd.jupyter.widget-view+json": {
       "model_id": "67636319334444f6b8abfec241b950a6",
       "version_major": 2,
       "version_minor": 0
      },
      "text/plain": [
       "  0%|          | 0/159292 [00:00<?, ?it/s]"
      ]
     },
     "metadata": {},
     "output_type": "display_data"
    },
    {
     "data": {
      "text/html": [
       "<div>\n",
       "<style scoped>\n",
       "    .dataframe tbody tr th:only-of-type {\n",
       "        vertical-align: middle;\n",
       "    }\n",
       "\n",
       "    .dataframe tbody tr th {\n",
       "        vertical-align: top;\n",
       "    }\n",
       "\n",
       "    .dataframe thead th {\n",
       "        text-align: right;\n",
       "    }\n",
       "</style>\n",
       "<table border=\"1\" class=\"dataframe\">\n",
       "  <thead>\n",
       "    <tr style=\"text-align: right;\">\n",
       "      <th></th>\n",
       "      <th>text</th>\n",
       "      <th>toxic</th>\n",
       "      <th>clean_text</th>\n",
       "      <th>lemm_text</th>\n",
       "    </tr>\n",
       "  </thead>\n",
       "  <tbody>\n",
       "    <tr>\n",
       "      <th>0</th>\n",
       "      <td>Explanation\\nWhy the edits made under my usern...</td>\n",
       "      <td>0</td>\n",
       "      <td>explanation why the edits made under my userna...</td>\n",
       "      <td>explanation why the edits make under my userna...</td>\n",
       "    </tr>\n",
       "    <tr>\n",
       "      <th>1</th>\n",
       "      <td>D'aww! He matches this background colour I'm s...</td>\n",
       "      <td>0</td>\n",
       "      <td>d aww he matches this background colour i am s...</td>\n",
       "      <td>d aww he match this background colour i be see...</td>\n",
       "    </tr>\n",
       "    <tr>\n",
       "      <th>2</th>\n",
       "      <td>Hey man, I'm really not trying to edit war. It...</td>\n",
       "      <td>0</td>\n",
       "      <td>hey man i am really not trying to edit war it ...</td>\n",
       "      <td>hey man i be really not try to edit war it be ...</td>\n",
       "    </tr>\n",
       "    <tr>\n",
       "      <th>3</th>\n",
       "      <td>\"\\nMore\\nI can't make any real suggestions on ...</td>\n",
       "      <td>0</td>\n",
       "      <td>more i cannot make any real suggestions on imp...</td>\n",
       "      <td>more i can not make any real suggestion on imp...</td>\n",
       "    </tr>\n",
       "    <tr>\n",
       "      <th>4</th>\n",
       "      <td>You, sir, are my hero. Any chance you remember...</td>\n",
       "      <td>0</td>\n",
       "      <td>you sir are my hero any chance you remember wh...</td>\n",
       "      <td>you sir be my hero any chance you remember wha...</td>\n",
       "    </tr>\n",
       "  </tbody>\n",
       "</table>\n",
       "</div>"
      ],
      "text/plain": [
       "                                                text  toxic  \\\n",
       "0  Explanation\\nWhy the edits made under my usern...      0   \n",
       "1  D'aww! He matches this background colour I'm s...      0   \n",
       "2  Hey man, I'm really not trying to edit war. It...      0   \n",
       "3  \"\\nMore\\nI can't make any real suggestions on ...      0   \n",
       "4  You, sir, are my hero. Any chance you remember...      0   \n",
       "\n",
       "                                          clean_text  \\\n",
       "0  explanation why the edits made under my userna...   \n",
       "1  d aww he matches this background colour i am s...   \n",
       "2  hey man i am really not trying to edit war it ...   \n",
       "3  more i cannot make any real suggestions on imp...   \n",
       "4  you sir are my hero any chance you remember wh...   \n",
       "\n",
       "                                           lemm_text  \n",
       "0  explanation why the edits make under my userna...  \n",
       "1  d aww he match this background colour i be see...  \n",
       "2  hey man i be really not try to edit war it be ...  \n",
       "3  more i can not make any real suggestion on imp...  \n",
       "4  you sir be my hero any chance you remember wha...  "
      ]
     },
     "execution_count": 10,
     "metadata": {},
     "output_type": "execute_result"
    }
   ],
   "source": [
    "#лемматизация текста\n",
    "\n",
    "data['lemm_text'] = data['clean_text'].progress_apply(lemmatize)\n",
    "data.head()"
   ]
  },
  {
   "cell_type": "markdown",
   "metadata": {},
   "source": [
    "## Обучение"
   ]
  },
  {
   "cell_type": "code",
   "execution_count": 11,
   "metadata": {},
   "outputs": [],
   "source": [
    "#разделение на тренировочную и тестовую выборки\n",
    "\n",
    "X_train, X_test, y_train, y_test = train_test_split(data.drop(['text', 'toxic', 'clean_text'], axis=1),\n",
    "                                                    data['toxic'],\n",
    "                                                    test_size = TEST_SIZE, \n",
    "                                                    random_state = RANDOM_STATE, \n",
    "                                                    stratify=data['toxic'])"
   ]
  },
  {
   "cell_type": "code",
   "execution_count": 12,
   "metadata": {},
   "outputs": [
    {
     "name": "stderr",
     "output_type": "stream",
     "text": [
      "[nltk_data] Downloading package stopwords to /home/ksenia/nltk_data...\n",
      "[nltk_data]   Package stopwords is already up-to-date!\n"
     ]
    }
   ],
   "source": [
    "#токенизация столбца с подготовленным текстом\n",
    "\n",
    "nltk.download('stopwords')\n",
    "stopwords = list(nltk_stopwords.words('english'))\n",
    "\n",
    "count_tf_idf = TfidfVectorizer(stop_words=stopwords)\n",
    "tf_idf = count_tf_idf.fit_transform(X_train['lemm_text'])\n",
    "\n",
    "tf_idf_test = count_tf_idf.transform(X_test['lemm_text'])"
   ]
  },
  {
   "cell_type": "markdown",
   "metadata": {},
   "source": [
    "### Логистическая регрессия"
   ]
  },
  {
   "cell_type": "code",
   "execution_count": 13,
   "metadata": {
    "scrolled": true
   },
   "outputs": [
    {
     "name": "stderr",
     "output_type": "stream",
     "text": [
      "/home/ksenia/.local/lib/python3.10/site-packages/sklearn/linear_model/_logistic.py:444: ConvergenceWarning: lbfgs failed to converge (status=1):\n",
      "STOP: TOTAL NO. of ITERATIONS REACHED LIMIT.\n",
      "\n",
      "Increase the number of iterations (max_iter) or scale the data as shown in:\n",
      "    https://scikit-learn.org/stable/modules/preprocessing.html\n",
      "Please also refer to the documentation for alternative solver options:\n",
      "    https://scikit-learn.org/stable/modules/linear_model.html#logistic-regression\n",
      "  n_iter_i = _check_optimize_result(\n",
      "/home/ksenia/.local/lib/python3.10/site-packages/sklearn/linear_model/_logistic.py:444: ConvergenceWarning: lbfgs failed to converge (status=1):\n",
      "STOP: TOTAL NO. of ITERATIONS REACHED LIMIT.\n",
      "\n",
      "Increase the number of iterations (max_iter) or scale the data as shown in:\n",
      "    https://scikit-learn.org/stable/modules/preprocessing.html\n",
      "Please also refer to the documentation for alternative solver options:\n",
      "    https://scikit-learn.org/stable/modules/linear_model.html#logistic-regression\n",
      "  n_iter_i = _check_optimize_result(\n",
      "/home/ksenia/.local/lib/python3.10/site-packages/sklearn/linear_model/_logistic.py:444: ConvergenceWarning: lbfgs failed to converge (status=1):\n",
      "STOP: TOTAL NO. of ITERATIONS REACHED LIMIT.\n",
      "\n",
      "Increase the number of iterations (max_iter) or scale the data as shown in:\n",
      "    https://scikit-learn.org/stable/modules/preprocessing.html\n",
      "Please also refer to the documentation for alternative solver options:\n",
      "    https://scikit-learn.org/stable/modules/linear_model.html#logistic-regression\n",
      "  n_iter_i = _check_optimize_result(\n",
      "/home/ksenia/.local/lib/python3.10/site-packages/sklearn/linear_model/_logistic.py:444: ConvergenceWarning: lbfgs failed to converge (status=1):\n",
      "STOP: TOTAL NO. of ITERATIONS REACHED LIMIT.\n",
      "\n",
      "Increase the number of iterations (max_iter) or scale the data as shown in:\n",
      "    https://scikit-learn.org/stable/modules/preprocessing.html\n",
      "Please also refer to the documentation for alternative solver options:\n",
      "    https://scikit-learn.org/stable/modules/linear_model.html#logistic-regression\n",
      "  n_iter_i = _check_optimize_result(\n",
      "/home/ksenia/.local/lib/python3.10/site-packages/sklearn/linear_model/_logistic.py:444: ConvergenceWarning: lbfgs failed to converge (status=1):\n",
      "STOP: TOTAL NO. of ITERATIONS REACHED LIMIT.\n",
      "\n",
      "Increase the number of iterations (max_iter) or scale the data as shown in:\n",
      "    https://scikit-learn.org/stable/modules/preprocessing.html\n",
      "Please also refer to the documentation for alternative solver options:\n",
      "    https://scikit-learn.org/stable/modules/linear_model.html#logistic-regression\n",
      "  n_iter_i = _check_optimize_result(\n",
      "/home/ksenia/.local/lib/python3.10/site-packages/sklearn/linear_model/_logistic.py:444: ConvergenceWarning: lbfgs failed to converge (status=1):\n",
      "STOP: TOTAL NO. of ITERATIONS REACHED LIMIT.\n",
      "\n",
      "Increase the number of iterations (max_iter) or scale the data as shown in:\n",
      "    https://scikit-learn.org/stable/modules/preprocessing.html\n",
      "Please also refer to the documentation for alternative solver options:\n",
      "    https://scikit-learn.org/stable/modules/linear_model.html#logistic-regression\n",
      "  n_iter_i = _check_optimize_result(\n",
      "/home/ksenia/.local/lib/python3.10/site-packages/sklearn/linear_model/_logistic.py:444: ConvergenceWarning: lbfgs failed to converge (status=1):\n",
      "STOP: TOTAL NO. of ITERATIONS REACHED LIMIT.\n",
      "\n",
      "Increase the number of iterations (max_iter) or scale the data as shown in:\n",
      "    https://scikit-learn.org/stable/modules/preprocessing.html\n",
      "Please also refer to the documentation for alternative solver options:\n",
      "    https://scikit-learn.org/stable/modules/linear_model.html#logistic-regression\n",
      "  n_iter_i = _check_optimize_result(\n",
      "/home/ksenia/.local/lib/python3.10/site-packages/sklearn/linear_model/_logistic.py:444: ConvergenceWarning: lbfgs failed to converge (status=1):\n",
      "STOP: TOTAL NO. of ITERATIONS REACHED LIMIT.\n",
      "\n",
      "Increase the number of iterations (max_iter) or scale the data as shown in:\n",
      "    https://scikit-learn.org/stable/modules/preprocessing.html\n",
      "Please also refer to the documentation for alternative solver options:\n",
      "    https://scikit-learn.org/stable/modules/linear_model.html#logistic-regression\n",
      "  n_iter_i = _check_optimize_result(\n",
      "/home/ksenia/.local/lib/python3.10/site-packages/sklearn/linear_model/_logistic.py:444: ConvergenceWarning: lbfgs failed to converge (status=1):\n",
      "STOP: TOTAL NO. of ITERATIONS REACHED LIMIT.\n",
      "\n",
      "Increase the number of iterations (max_iter) or scale the data as shown in:\n",
      "    https://scikit-learn.org/stable/modules/preprocessing.html\n",
      "Please also refer to the documentation for alternative solver options:\n",
      "    https://scikit-learn.org/stable/modules/linear_model.html#logistic-regression\n",
      "  n_iter_i = _check_optimize_result(\n",
      "/home/ksenia/.local/lib/python3.10/site-packages/sklearn/linear_model/_logistic.py:444: ConvergenceWarning: lbfgs failed to converge (status=1):\n",
      "STOP: TOTAL NO. of ITERATIONS REACHED LIMIT.\n",
      "\n",
      "Increase the number of iterations (max_iter) or scale the data as shown in:\n",
      "    https://scikit-learn.org/stable/modules/preprocessing.html\n",
      "Please also refer to the documentation for alternative solver options:\n",
      "    https://scikit-learn.org/stable/modules/linear_model.html#logistic-regression\n",
      "  n_iter_i = _check_optimize_result(\n"
     ]
    },
    {
     "data": {
      "text/html": [
       "<style>#sk-container-id-1 {color: black;background-color: white;}#sk-container-id-1 pre{padding: 0;}#sk-container-id-1 div.sk-toggleable {background-color: white;}#sk-container-id-1 label.sk-toggleable__label {cursor: pointer;display: block;width: 100%;margin-bottom: 0;padding: 0.3em;box-sizing: border-box;text-align: center;}#sk-container-id-1 label.sk-toggleable__label-arrow:before {content: \"▸\";float: left;margin-right: 0.25em;color: #696969;}#sk-container-id-1 label.sk-toggleable__label-arrow:hover:before {color: black;}#sk-container-id-1 div.sk-estimator:hover label.sk-toggleable__label-arrow:before {color: black;}#sk-container-id-1 div.sk-toggleable__content {max-height: 0;max-width: 0;overflow: hidden;text-align: left;background-color: #f0f8ff;}#sk-container-id-1 div.sk-toggleable__content pre {margin: 0.2em;color: black;border-radius: 0.25em;background-color: #f0f8ff;}#sk-container-id-1 input.sk-toggleable__control:checked~div.sk-toggleable__content {max-height: 200px;max-width: 100%;overflow: auto;}#sk-container-id-1 input.sk-toggleable__control:checked~label.sk-toggleable__label-arrow:before {content: \"▾\";}#sk-container-id-1 div.sk-estimator input.sk-toggleable__control:checked~label.sk-toggleable__label {background-color: #d4ebff;}#sk-container-id-1 div.sk-label input.sk-toggleable__control:checked~label.sk-toggleable__label {background-color: #d4ebff;}#sk-container-id-1 input.sk-hidden--visually {border: 0;clip: rect(1px 1px 1px 1px);clip: rect(1px, 1px, 1px, 1px);height: 1px;margin: -1px;overflow: hidden;padding: 0;position: absolute;width: 1px;}#sk-container-id-1 div.sk-estimator {font-family: monospace;background-color: #f0f8ff;border: 1px dotted black;border-radius: 0.25em;box-sizing: border-box;margin-bottom: 0.5em;}#sk-container-id-1 div.sk-estimator:hover {background-color: #d4ebff;}#sk-container-id-1 div.sk-parallel-item::after {content: \"\";width: 100%;border-bottom: 1px solid gray;flex-grow: 1;}#sk-container-id-1 div.sk-label:hover label.sk-toggleable__label {background-color: #d4ebff;}#sk-container-id-1 div.sk-serial::before {content: \"\";position: absolute;border-left: 1px solid gray;box-sizing: border-box;top: 0;bottom: 0;left: 50%;z-index: 0;}#sk-container-id-1 div.sk-serial {display: flex;flex-direction: column;align-items: center;background-color: white;padding-right: 0.2em;padding-left: 0.2em;position: relative;}#sk-container-id-1 div.sk-item {position: relative;z-index: 1;}#sk-container-id-1 div.sk-parallel {display: flex;align-items: stretch;justify-content: center;background-color: white;position: relative;}#sk-container-id-1 div.sk-item::before, #sk-container-id-1 div.sk-parallel-item::before {content: \"\";position: absolute;border-left: 1px solid gray;box-sizing: border-box;top: 0;bottom: 0;left: 50%;z-index: -1;}#sk-container-id-1 div.sk-parallel-item {display: flex;flex-direction: column;z-index: 1;position: relative;background-color: white;}#sk-container-id-1 div.sk-parallel-item:first-child::after {align-self: flex-end;width: 50%;}#sk-container-id-1 div.sk-parallel-item:last-child::after {align-self: flex-start;width: 50%;}#sk-container-id-1 div.sk-parallel-item:only-child::after {width: 0;}#sk-container-id-1 div.sk-dashed-wrapped {border: 1px dashed gray;margin: 0 0.4em 0.5em 0.4em;box-sizing: border-box;padding-bottom: 0.4em;background-color: white;}#sk-container-id-1 div.sk-label label {font-family: monospace;font-weight: bold;display: inline-block;line-height: 1.2em;}#sk-container-id-1 div.sk-label-container {text-align: center;}#sk-container-id-1 div.sk-container {/* jupyter's `normalize.less` sets `[hidden] { display: none; }` but bootstrap.min.css set `[hidden] { display: none !important; }` so we also need the `!important` here to be able to override the default hidden behavior on the sphinx rendered scikit-learn.org. See: https://github.com/scikit-learn/scikit-learn/issues/21755 */display: inline-block !important;position: relative;}#sk-container-id-1 div.sk-text-repr-fallback {display: none;}</style><div id=\"sk-container-id-1\" class=\"sk-top-container\"><div class=\"sk-text-repr-fallback\"><pre>RandomizedSearchCV(cv=5,\n",
       "                   estimator=Pipeline(steps=[(&#x27;models&#x27;, LogisticRegression())]),\n",
       "                   n_jobs=-1, param_distributions=[{&#x27;models__C&#x27;: [12, 14]}],\n",
       "                   scoring=&#x27;f1&#x27;)</pre><b>In a Jupyter environment, please rerun this cell to show the HTML representation or trust the notebook. <br />On GitHub, the HTML representation is unable to render, please try loading this page with nbviewer.org.</b></div><div class=\"sk-container\" hidden><div class=\"sk-item sk-dashed-wrapped\"><div class=\"sk-label-container\"><div class=\"sk-label sk-toggleable\"><input class=\"sk-toggleable__control sk-hidden--visually\" id=\"sk-estimator-id-1\" type=\"checkbox\" ><label for=\"sk-estimator-id-1\" class=\"sk-toggleable__label sk-toggleable__label-arrow\">RandomizedSearchCV</label><div class=\"sk-toggleable__content\"><pre>RandomizedSearchCV(cv=5,\n",
       "                   estimator=Pipeline(steps=[(&#x27;models&#x27;, LogisticRegression())]),\n",
       "                   n_jobs=-1, param_distributions=[{&#x27;models__C&#x27;: [12, 14]}],\n",
       "                   scoring=&#x27;f1&#x27;)</pre></div></div></div><div class=\"sk-parallel\"><div class=\"sk-parallel-item\"><div class=\"sk-item\"><div class=\"sk-label-container\"><div class=\"sk-label sk-toggleable\"><input class=\"sk-toggleable__control sk-hidden--visually\" id=\"sk-estimator-id-2\" type=\"checkbox\" ><label for=\"sk-estimator-id-2\" class=\"sk-toggleable__label sk-toggleable__label-arrow\">estimator: Pipeline</label><div class=\"sk-toggleable__content\"><pre>Pipeline(steps=[(&#x27;models&#x27;, LogisticRegression())])</pre></div></div></div><div class=\"sk-serial\"><div class=\"sk-item\"><div class=\"sk-serial\"><div class=\"sk-item\"><div class=\"sk-estimator sk-toggleable\"><input class=\"sk-toggleable__control sk-hidden--visually\" id=\"sk-estimator-id-3\" type=\"checkbox\" ><label for=\"sk-estimator-id-3\" class=\"sk-toggleable__label sk-toggleable__label-arrow\">LogisticRegression</label><div class=\"sk-toggleable__content\"><pre>LogisticRegression()</pre></div></div></div></div></div></div></div></div></div></div></div></div>"
      ],
      "text/plain": [
       "RandomizedSearchCV(cv=5,\n",
       "                   estimator=Pipeline(steps=[('models', LogisticRegression())]),\n",
       "                   n_jobs=-1, param_distributions=[{'models__C': [12, 14]}],\n",
       "                   scoring='f1')"
      ]
     },
     "execution_count": 13,
     "metadata": {},
     "output_type": "execute_result"
    }
   ],
   "source": [
    "#обучение с кросс-валидацией \n",
    "\n",
    "pipe_final = Pipeline(\n",
    "    [\n",
    "        ('models', LogisticRegression())\n",
    "    ]\n",
    ")\n",
    "\n",
    "param_distributions_lin = [\n",
    "    {\n",
    "        'models__C': [12, 14]\n",
    "    }]\n",
    "\n",
    "rand_lin = RandomizedSearchCV(\n",
    "    estimator=pipe_final, \n",
    "    param_distributions=param_distributions_lin, \n",
    "    cv=5, \n",
    "    scoring='f1', \n",
    "    n_jobs=-1, \n",
    ")\n",
    "\n",
    "rand_lin.fit(tf_idf, y_train)"
   ]
  },
  {
   "cell_type": "code",
   "execution_count": 14,
   "metadata": {},
   "outputs": [
    {
     "name": "stdout",
     "output_type": "stream",
     "text": [
      "Параметры лучшей модели\n",
      ": {'models__C': 14}\n",
      "Метрика f1 для лучшей модели на тренировочной выборке: 0.764\n"
     ]
    }
   ],
   "source": [
    "print(f'Параметры лучшей модели\\n: {rand_lin.best_params_}')\n",
    "print(f'Метрика f1 для лучшей модели на тренировочной выборке: {round(rand_lin.best_score_, 3)}')"
   ]
  },
  {
   "cell_type": "markdown",
   "metadata": {},
   "source": [
    "### CatBoostClassifier"
   ]
  },
  {
   "cell_type": "code",
   "execution_count": 15,
   "metadata": {},
   "outputs": [
    {
     "name": "stdout",
     "output_type": "stream",
     "text": [
      "Параметры лучшей модели:Pipeline(steps=[('models',\n",
      "                 <catboost.core.CatBoostClassifier object at 0x723240ba9300>)])\n",
      "Метрика f1 для лучшей модели на тренировочной выборке: 0.734\n"
     ]
    }
   ],
   "source": [
    "#обучение с кросс-валидацией и перебором гиперпараметров\n",
    "\n",
    "pipe_final = Pipeline(\n",
    "    [\n",
    "        ('models', CatBoostClassifier(random_state=RANDOM_STATE))\n",
    "    ]\n",
    ")\n",
    "\n",
    "param_distributions_CBC = [\n",
    "    {\n",
    "        'models': [CatBoostClassifier(random_state=RANDOM_STATE, \n",
    "                                      verbose=False, \n",
    "                                      learning_rate=0.1, \n",
    "                                      iterations=500)],\n",
    "    }]\n",
    "\n",
    "rand_CBC = RandomizedSearchCV(\n",
    "    pipe_final, \n",
    "    param_distributions=param_distributions_CBC, \n",
    "    cv=5, \n",
    "    scoring='f1', \n",
    "    n_jobs=-1, \n",
    ")\n",
    "\n",
    "rand_CBC.fit(tf_idf, y_train)\n",
    "print(f'Параметры лучшей модели:{rand_CBC.best_estimator_}')\n",
    "print(f'Метрика f1 для лучшей модели на тренировочной выборке: {round(rand_CBC.best_score_, 3)}')"
   ]
  },
  {
   "cell_type": "markdown",
   "metadata": {},
   "source": [
    "### Тестовая метрика"
   ]
  },
  {
   "cell_type": "markdown",
   "metadata": {},
   "source": [
    "По результатам кросс-валидации и поиска лучшей модели была выбрана модель логистической регрессии. Рассчитаем с помощью неёё метрику на тестовой выборке. "
   ]
  },
  {
   "cell_type": "code",
   "execution_count": 16,
   "metadata": {},
   "outputs": [
    {
     "name": "stdout",
     "output_type": "stream",
     "text": [
      "Метрика f1 на тестовой выборке для логистической регрессии: 0.791\n"
     ]
    }
   ],
   "source": [
    "pred = rand_lin.best_estimator_.predict(tf_idf_test)\n",
    "print(f'Метрика f1 на тестовой выборке для логистической регрессии: {round(f1_score(y_test, pred), 3)}')"
   ]
  },
  {
   "cell_type": "markdown",
   "metadata": {},
   "source": [
    "## Выводы"
   ]
  },
  {
   "cell_type": "markdown",
   "metadata": {},
   "source": [
    "В данной работе необходимо было разработать модель, позволяющую классифицировать комментарии правки к описаниям товаров на позитивные и негативные. \n",
    "Данные предварительно были подготовлены:\n",
    "- текст приведен к нижнему регистру, удалены знаки препинания\n",
    "- текст лемматизирован\n",
    "\n",
    "Для этого на предоставленном размеченном наборе данных были обучены 2 модели МО - логистическая регрессия и CatBoostClassifier. На модели логистической регрессии удалось достичь значения целевой метрики в 0.79. "
   ]
  },
  {
   "cell_type": "code",
   "execution_count": null,
   "metadata": {},
   "outputs": [],
   "source": []
  }
 ],
 "metadata": {
  "ExecuteTimeLog": [
   {
    "duration": 9874,
    "start_time": "2024-03-18T14:29:33.753Z"
   },
   {
    "duration": 3475,
    "start_time": "2024-03-18T14:29:43.630Z"
   },
   {
    "duration": 967,
    "start_time": "2024-03-18T14:33:02.122Z"
   },
   {
    "duration": 2327,
    "start_time": "2024-03-18T14:33:03.092Z"
   },
   {
    "duration": 3,
    "start_time": "2024-03-18T14:33:48.816Z"
   },
   {
    "duration": 899,
    "start_time": "2024-03-18T14:33:52.041Z"
   },
   {
    "duration": 847,
    "start_time": "2024-03-18T14:34:33.920Z"
   },
   {
    "duration": 3,
    "start_time": "2024-03-18T14:36:52.021Z"
   },
   {
    "duration": 4123,
    "start_time": "2024-03-18T14:37:10.379Z"
   },
   {
    "duration": 960,
    "start_time": "2024-03-18T14:37:14.505Z"
   },
   {
    "duration": 2243,
    "start_time": "2024-03-18T14:37:15.467Z"
   },
   {
    "duration": 29,
    "start_time": "2024-03-18T14:37:17.712Z"
   },
   {
    "duration": 8,
    "start_time": "2024-03-18T14:37:17.743Z"
   },
   {
    "duration": 810,
    "start_time": "2024-03-18T14:37:17.753Z"
   },
   {
    "duration": 4,
    "start_time": "2024-03-18T14:39:33.544Z"
   },
   {
    "duration": 3,
    "start_time": "2024-03-18T14:40:35.770Z"
   },
   {
    "duration": 849,
    "start_time": "2024-03-18T14:40:36.289Z"
   },
   {
    "duration": 4634,
    "start_time": "2024-03-18T14:54:41.464Z"
   },
   {
    "duration": 982,
    "start_time": "2024-03-18T14:54:46.100Z"
   },
   {
    "duration": 2381,
    "start_time": "2024-03-18T14:54:47.084Z"
   },
   {
    "duration": 57,
    "start_time": "2024-03-18T14:54:49.468Z"
   },
   {
    "duration": 73,
    "start_time": "2024-03-18T14:54:49.530Z"
   },
   {
    "duration": 981,
    "start_time": "2024-03-18T14:54:49.605Z"
   },
   {
    "duration": 25364,
    "start_time": "2024-03-18T14:54:50.589Z"
   },
   {
    "duration": 4276,
    "start_time": "2024-03-18T14:56:08.384Z"
   },
   {
    "duration": 959,
    "start_time": "2024-03-18T14:56:12.662Z"
   },
   {
    "duration": 3,
    "start_time": "2024-03-18T14:56:13.623Z"
   },
   {
    "duration": 5,
    "start_time": "2024-03-18T14:56:13.627Z"
   },
   {
    "duration": 139,
    "start_time": "2024-03-18T14:56:13.634Z"
   },
   {
    "duration": 0,
    "start_time": "2024-03-18T14:56:13.775Z"
   },
   {
    "duration": 4107,
    "start_time": "2024-03-18T14:57:09.107Z"
   },
   {
    "duration": 957,
    "start_time": "2024-03-18T14:57:13.217Z"
   },
   {
    "duration": 3,
    "start_time": "2024-03-18T14:57:14.176Z"
   },
   {
    "duration": 12,
    "start_time": "2024-03-18T14:57:14.180Z"
   },
   {
    "duration": 2285,
    "start_time": "2024-03-18T14:57:14.194Z"
   },
   {
    "duration": 890,
    "start_time": "2024-03-18T14:57:16.481Z"
   },
   {
    "duration": 12455,
    "start_time": "2024-03-18T14:57:17.374Z"
   },
   {
    "duration": 155,
    "start_time": "2024-03-18T14:57:41.597Z"
   },
   {
    "duration": 799,
    "start_time": "2024-03-18T14:57:42.459Z"
   },
   {
    "duration": 9876,
    "start_time": "2024-03-18T14:57:48.710Z"
   },
   {
    "duration": 36,
    "start_time": "2024-03-18T15:04:23.590Z"
   },
   {
    "duration": 4,
    "start_time": "2024-03-18T15:05:09.407Z"
   },
   {
    "duration": 4328,
    "start_time": "2024-03-18T15:08:17.697Z"
   },
   {
    "duration": 993,
    "start_time": "2024-03-18T15:08:22.028Z"
   },
   {
    "duration": 4,
    "start_time": "2024-03-18T15:08:23.022Z"
   },
   {
    "duration": 12,
    "start_time": "2024-03-18T15:08:23.028Z"
   },
   {
    "duration": 6,
    "start_time": "2024-03-18T15:08:23.042Z"
   },
   {
    "duration": 1459,
    "start_time": "2024-03-18T15:08:23.050Z"
   },
   {
    "duration": 10137,
    "start_time": "2024-03-18T15:08:24.510Z"
   },
   {
    "duration": 5,
    "start_time": "2024-03-18T15:08:34.649Z"
   },
   {
    "duration": 56,
    "start_time": "2024-03-18T15:08:34.656Z"
   },
   {
    "duration": 18,
    "start_time": "2024-03-18T15:14:05.214Z"
   },
   {
    "duration": 14474,
    "start_time": "2024-03-18T15:19:32.423Z"
   },
   {
    "duration": 15520,
    "start_time": "2024-03-18T15:20:10.175Z"
   },
   {
    "duration": 973,
    "start_time": "2024-03-18T15:20:25.697Z"
   },
   {
    "duration": 22,
    "start_time": "2024-03-18T15:20:26.671Z"
   },
   {
    "duration": 4,
    "start_time": "2024-03-18T15:20:26.695Z"
   },
   {
    "duration": 7,
    "start_time": "2024-03-18T15:20:26.700Z"
   },
   {
    "duration": 1765,
    "start_time": "2024-03-18T15:20:26.709Z"
   },
   {
    "duration": 0,
    "start_time": "2024-03-18T15:20:28.476Z"
   },
   {
    "duration": 0,
    "start_time": "2024-03-18T15:20:28.478Z"
   },
   {
    "duration": 0,
    "start_time": "2024-03-18T15:20:28.479Z"
   },
   {
    "duration": 0,
    "start_time": "2024-03-18T15:20:28.481Z"
   },
   {
    "duration": 12,
    "start_time": "2024-03-18T15:21:25.939Z"
   },
   {
    "duration": 3,
    "start_time": "2024-03-18T15:21:29.773Z"
   },
   {
    "duration": 3,
    "start_time": "2024-03-18T15:21:34.392Z"
   },
   {
    "duration": 28,
    "start_time": "2024-03-18T15:22:41.888Z"
   },
   {
    "duration": 2916,
    "start_time": "2024-03-18T15:23:42.891Z"
   },
   {
    "duration": 394,
    "start_time": "2024-03-18T15:24:37.195Z"
   },
   {
    "duration": 2668,
    "start_time": "2024-03-18T15:24:54.625Z"
   },
   {
    "duration": 2747,
    "start_time": "2024-03-18T15:25:02.708Z"
   },
   {
    "duration": 4,
    "start_time": "2024-03-18T15:25:13.278Z"
   },
   {
    "duration": 1472,
    "start_time": "2024-03-18T15:25:15.857Z"
   },
   {
    "duration": 21,
    "start_time": "2024-03-18T15:25:20.287Z"
   },
   {
    "duration": 4499,
    "start_time": "2024-03-18T15:26:57.685Z"
   },
   {
    "duration": 1009,
    "start_time": "2024-03-18T15:27:02.186Z"
   },
   {
    "duration": 15,
    "start_time": "2024-03-18T15:27:03.197Z"
   },
   {
    "duration": 18,
    "start_time": "2024-03-18T15:27:03.214Z"
   },
   {
    "duration": 40,
    "start_time": "2024-03-18T15:27:03.235Z"
   },
   {
    "duration": 52,
    "start_time": "2024-03-18T15:27:03.276Z"
   },
   {
    "duration": 1496,
    "start_time": "2024-03-18T15:27:03.330Z"
   },
   {
    "duration": 157,
    "start_time": "2024-03-18T15:27:04.828Z"
   },
   {
    "duration": 0,
    "start_time": "2024-03-18T15:27:04.987Z"
   },
   {
    "duration": 0,
    "start_time": "2024-03-18T15:27:04.991Z"
   },
   {
    "duration": 0,
    "start_time": "2024-03-18T15:27:04.993Z"
   },
   {
    "duration": 38,
    "start_time": "2024-03-18T15:29:08.876Z"
   },
   {
    "duration": 4,
    "start_time": "2024-03-18T15:29:15.688Z"
   },
   {
    "duration": 16,
    "start_time": "2024-03-18T15:31:33.750Z"
   },
   {
    "duration": 35,
    "start_time": "2024-03-18T15:33:10.221Z"
   },
   {
    "duration": 20,
    "start_time": "2024-03-18T15:33:32.580Z"
   },
   {
    "duration": 4365,
    "start_time": "2024-03-18T15:33:38.523Z"
   },
   {
    "duration": 964,
    "start_time": "2024-03-18T15:33:42.890Z"
   },
   {
    "duration": 16,
    "start_time": "2024-03-18T15:33:43.856Z"
   },
   {
    "duration": 18,
    "start_time": "2024-03-18T15:33:43.874Z"
   },
   {
    "duration": 15,
    "start_time": "2024-03-18T15:33:43.894Z"
   },
   {
    "duration": 52,
    "start_time": "2024-03-18T15:33:43.912Z"
   },
   {
    "duration": 1487,
    "start_time": "2024-03-18T15:33:43.966Z"
   },
   {
    "duration": 45,
    "start_time": "2024-03-18T15:33:45.455Z"
   },
   {
    "duration": 17,
    "start_time": "2024-03-18T15:33:45.502Z"
   },
   {
    "duration": 15,
    "start_time": "2024-03-18T15:33:45.521Z"
   },
   {
    "duration": 14,
    "start_time": "2024-03-18T15:33:48.095Z"
   },
   {
    "duration": 5,
    "start_time": "2024-03-18T15:38:41.417Z"
   },
   {
    "duration": 17,
    "start_time": "2024-03-18T15:38:45.891Z"
   },
   {
    "duration": 4212,
    "start_time": "2024-03-18T15:41:22.424Z"
   },
   {
    "duration": 2907,
    "start_time": "2024-03-18T15:41:31.432Z"
   },
   {
    "duration": 2677,
    "start_time": "2024-03-18T15:41:38.943Z"
   },
   {
    "duration": 2774,
    "start_time": "2024-03-18T15:41:57.709Z"
   },
   {
    "duration": 3,
    "start_time": "2024-03-18T15:42:49.778Z"
   },
   {
    "duration": 28,
    "start_time": "2024-03-18T15:42:53.357Z"
   },
   {
    "duration": 4550,
    "start_time": "2024-03-18T15:43:01.360Z"
   },
   {
    "duration": 1005,
    "start_time": "2024-03-18T15:43:05.913Z"
   },
   {
    "duration": 16,
    "start_time": "2024-03-18T15:43:06.920Z"
   },
   {
    "duration": 3,
    "start_time": "2024-03-18T15:43:06.938Z"
   },
   {
    "duration": 3,
    "start_time": "2024-03-18T15:43:06.943Z"
   },
   {
    "duration": 46,
    "start_time": "2024-03-18T15:43:06.948Z"
   },
   {
    "duration": 576,
    "start_time": "2024-03-18T15:43:06.995Z"
   },
   {
    "duration": 0,
    "start_time": "2024-03-18T15:43:07.573Z"
   },
   {
    "duration": 0,
    "start_time": "2024-03-18T15:43:07.574Z"
   },
   {
    "duration": 0,
    "start_time": "2024-03-18T15:43:07.575Z"
   },
   {
    "duration": 3,
    "start_time": "2024-03-18T15:44:06.574Z"
   },
   {
    "duration": 1791,
    "start_time": "2024-03-18T15:44:09.698Z"
   },
   {
    "duration": 1022,
    "start_time": "2024-03-18T15:45:09.798Z"
   },
   {
    "duration": 5303,
    "start_time": "2024-03-18T15:45:31.107Z"
   },
   {
    "duration": 3553,
    "start_time": "2024-03-18T15:45:36.412Z"
   },
   {
    "duration": 31,
    "start_time": "2024-03-18T15:45:39.967Z"
   },
   {
    "duration": 4,
    "start_time": "2024-03-18T15:45:40.001Z"
   },
   {
    "duration": 34,
    "start_time": "2024-03-18T15:45:40.007Z"
   },
   {
    "duration": 49,
    "start_time": "2024-03-18T15:45:40.043Z"
   },
   {
    "duration": 44,
    "start_time": "2024-03-18T15:45:40.095Z"
   },
   {
    "duration": 1722,
    "start_time": "2024-03-18T15:45:40.142Z"
   },
   {
    "duration": 152,
    "start_time": "2024-03-18T15:45:41.866Z"
   },
   {
    "duration": 0,
    "start_time": "2024-03-18T15:45:42.020Z"
   },
   {
    "duration": 0,
    "start_time": "2024-03-18T15:45:42.022Z"
   },
   {
    "duration": 82,
    "start_time": "2024-03-18T15:47:06.210Z"
   },
   {
    "duration": 3,
    "start_time": "2024-03-18T15:51:19.548Z"
   },
   {
    "duration": 4536,
    "start_time": "2024-03-18T15:51:25.722Z"
   },
   {
    "duration": 1027,
    "start_time": "2024-03-18T15:51:30.262Z"
   },
   {
    "duration": 34,
    "start_time": "2024-03-18T15:51:31.291Z"
   },
   {
    "duration": 120,
    "start_time": "2024-03-18T15:51:31.326Z"
   },
   {
    "duration": 56,
    "start_time": "2024-03-18T15:51:31.449Z"
   },
   {
    "duration": 117,
    "start_time": "2024-03-18T15:51:31.507Z"
   },
   {
    "duration": 73,
    "start_time": "2024-03-18T15:51:31.625Z"
   },
   {
    "duration": 1569,
    "start_time": "2024-03-18T15:51:31.700Z"
   },
   {
    "duration": 62,
    "start_time": "2024-03-18T15:51:33.271Z"
   },
   {
    "duration": 21,
    "start_time": "2024-03-18T15:51:33.335Z"
   },
   {
    "duration": 32,
    "start_time": "2024-03-18T15:51:33.358Z"
   },
   {
    "duration": 12035,
    "start_time": "2024-03-18T16:06:18.180Z"
   },
   {
    "duration": 7,
    "start_time": "2024-03-18T16:07:23.609Z"
   },
   {
    "duration": 3144,
    "start_time": "2024-03-18T16:07:45.971Z"
   },
   {
    "duration": 2745,
    "start_time": "2024-03-18T16:07:55.355Z"
   },
   {
    "duration": 1005,
    "start_time": "2024-03-18T16:08:17.573Z"
   },
   {
    "duration": 4827,
    "start_time": "2024-03-18T16:08:23.227Z"
   },
   {
    "duration": 960,
    "start_time": "2024-03-18T16:08:28.055Z"
   },
   {
    "duration": 16,
    "start_time": "2024-03-18T16:08:29.017Z"
   },
   {
    "duration": 10,
    "start_time": "2024-03-18T16:08:29.036Z"
   },
   {
    "duration": 38,
    "start_time": "2024-03-18T16:08:29.048Z"
   },
   {
    "duration": 47,
    "start_time": "2024-03-18T16:08:29.087Z"
   },
   {
    "duration": 32,
    "start_time": "2024-03-18T16:08:29.135Z"
   },
   {
    "duration": 1477,
    "start_time": "2024-03-18T16:08:29.169Z"
   },
   {
    "duration": 5,
    "start_time": "2024-03-18T16:08:30.647Z"
   },
   {
    "duration": 275,
    "start_time": "2024-03-18T16:08:30.655Z"
   },
   {
    "duration": 0,
    "start_time": "2024-03-18T16:08:30.932Z"
   },
   {
    "duration": 0,
    "start_time": "2024-03-18T16:08:30.933Z"
   },
   {
    "duration": 0,
    "start_time": "2024-03-18T16:08:30.934Z"
   },
   {
    "duration": 0,
    "start_time": "2024-03-18T16:08:30.935Z"
   },
   {
    "duration": 16,
    "start_time": "2024-03-18T16:09:21.724Z"
   },
   {
    "duration": 4707,
    "start_time": "2024-03-18T16:09:32.724Z"
   },
   {
    "duration": 982,
    "start_time": "2024-03-18T16:09:37.433Z"
   },
   {
    "duration": 25,
    "start_time": "2024-03-18T16:09:38.417Z"
   },
   {
    "duration": 3,
    "start_time": "2024-03-18T16:09:38.444Z"
   },
   {
    "duration": 17,
    "start_time": "2024-03-18T16:09:38.449Z"
   },
   {
    "duration": 43,
    "start_time": "2024-03-18T16:09:38.467Z"
   },
   {
    "duration": 35,
    "start_time": "2024-03-18T16:09:38.511Z"
   },
   {
    "duration": 1439,
    "start_time": "2024-03-18T16:09:38.548Z"
   },
   {
    "duration": 6,
    "start_time": "2024-03-18T16:09:39.992Z"
   },
   {
    "duration": 182,
    "start_time": "2024-03-18T16:09:40.000Z"
   },
   {
    "duration": 0,
    "start_time": "2024-03-18T16:09:40.185Z"
   },
   {
    "duration": 0,
    "start_time": "2024-03-18T16:09:40.187Z"
   },
   {
    "duration": 0,
    "start_time": "2024-03-18T16:09:40.193Z"
   },
   {
    "duration": 0,
    "start_time": "2024-03-18T16:09:40.195Z"
   },
   {
    "duration": 6,
    "start_time": "2024-03-18T16:09:59.453Z"
   },
   {
    "duration": 21,
    "start_time": "2024-03-18T16:10:05.100Z"
   },
   {
    "duration": 4770,
    "start_time": "2024-03-18T16:10:24.122Z"
   },
   {
    "duration": 1006,
    "start_time": "2024-03-18T16:10:28.895Z"
   },
   {
    "duration": 25,
    "start_time": "2024-03-18T16:10:29.903Z"
   },
   {
    "duration": 2,
    "start_time": "2024-03-18T16:10:29.930Z"
   },
   {
    "duration": 8,
    "start_time": "2024-03-18T16:10:29.934Z"
   },
   {
    "duration": 49,
    "start_time": "2024-03-18T16:10:29.943Z"
   },
   {
    "duration": 28,
    "start_time": "2024-03-18T16:10:29.994Z"
   },
   {
    "duration": 1515,
    "start_time": "2024-03-18T16:10:30.024Z"
   },
   {
    "duration": 3,
    "start_time": "2024-03-18T16:10:31.541Z"
   },
   {
    "duration": 103,
    "start_time": "2024-03-18T16:10:31.547Z"
   },
   {
    "duration": 122,
    "start_time": "2024-03-18T16:10:31.651Z"
   },
   {
    "duration": 145,
    "start_time": "2024-03-18T16:10:31.774Z"
   },
   {
    "duration": 0,
    "start_time": "2024-03-18T16:10:31.921Z"
   },
   {
    "duration": 0,
    "start_time": "2024-03-18T16:10:31.923Z"
   },
   {
    "duration": 97,
    "start_time": "2024-03-18T16:10:45.252Z"
   },
   {
    "duration": 51,
    "start_time": "2024-03-18T16:11:18.211Z"
   },
   {
    "duration": 7046,
    "start_time": "2024-03-18T16:11:18.986Z"
   },
   {
    "duration": 5055,
    "start_time": "2024-03-18T16:12:58.787Z"
   },
   {
    "duration": 1026,
    "start_time": "2024-03-18T16:13:03.845Z"
   },
   {
    "duration": 33,
    "start_time": "2024-03-18T16:13:04.872Z"
   },
   {
    "duration": 4,
    "start_time": "2024-03-18T16:13:04.907Z"
   },
   {
    "duration": 7,
    "start_time": "2024-03-18T16:13:04.914Z"
   },
   {
    "duration": 35,
    "start_time": "2024-03-18T16:13:04.924Z"
   },
   {
    "duration": 38,
    "start_time": "2024-03-18T16:13:04.960Z"
   },
   {
    "duration": 1473,
    "start_time": "2024-03-18T16:13:05.000Z"
   },
   {
    "duration": 4,
    "start_time": "2024-03-18T16:13:06.475Z"
   },
   {
    "duration": 7,
    "start_time": "2024-03-18T16:13:06.492Z"
   },
   {
    "duration": 61,
    "start_time": "2024-03-18T16:13:06.500Z"
   },
   {
    "duration": 7076,
    "start_time": "2024-03-18T16:13:06.563Z"
   },
   {
    "duration": 166,
    "start_time": "2024-03-18T16:14:25.001Z"
   },
   {
    "duration": 22,
    "start_time": "2024-03-18T16:14:37.174Z"
   },
   {
    "duration": 12,
    "start_time": "2024-03-18T16:14:56.851Z"
   },
   {
    "duration": 6,
    "start_time": "2024-03-18T16:15:02.863Z"
   },
   {
    "duration": 6,
    "start_time": "2024-03-18T16:15:13.038Z"
   },
   {
    "duration": 6,
    "start_time": "2024-03-18T16:15:14.483Z"
   },
   {
    "duration": 53,
    "start_time": "2024-03-18T16:15:17.035Z"
   },
   {
    "duration": 42,
    "start_time": "2024-03-18T16:15:18.223Z"
   },
   {
    "duration": 13,
    "start_time": "2024-03-18T16:15:19.403Z"
   },
   {
    "duration": 15,
    "start_time": "2024-03-18T16:15:41.825Z"
   },
   {
    "duration": 4948,
    "start_time": "2024-03-18T16:15:59.220Z"
   },
   {
    "duration": 976,
    "start_time": "2024-03-18T16:16:04.170Z"
   },
   {
    "duration": 30,
    "start_time": "2024-03-18T16:16:05.147Z"
   },
   {
    "duration": 13,
    "start_time": "2024-03-18T16:16:05.179Z"
   },
   {
    "duration": 25,
    "start_time": "2024-03-18T16:16:05.195Z"
   },
   {
    "duration": 62,
    "start_time": "2024-03-18T16:16:05.223Z"
   },
   {
    "duration": 51,
    "start_time": "2024-03-18T16:16:05.287Z"
   },
   {
    "duration": 1513,
    "start_time": "2024-03-18T16:16:05.339Z"
   },
   {
    "duration": 4,
    "start_time": "2024-03-18T16:16:06.855Z"
   },
   {
    "duration": 7,
    "start_time": "2024-03-18T16:16:06.861Z"
   },
   {
    "duration": 105,
    "start_time": "2024-03-18T16:16:06.870Z"
   },
   {
    "duration": 42,
    "start_time": "2024-03-18T16:16:06.977Z"
   },
   {
    "duration": 22,
    "start_time": "2024-03-18T16:16:07.021Z"
   },
   {
    "duration": 4986,
    "start_time": "2024-03-18T16:18:35.098Z"
   },
   {
    "duration": 962,
    "start_time": "2024-03-18T16:18:40.087Z"
   },
   {
    "duration": 25,
    "start_time": "2024-03-18T16:18:41.051Z"
   },
   {
    "duration": 14,
    "start_time": "2024-03-18T16:18:41.078Z"
   },
   {
    "duration": 6,
    "start_time": "2024-03-18T16:18:41.093Z"
   },
   {
    "duration": 49,
    "start_time": "2024-03-18T16:18:41.100Z"
   },
   {
    "duration": 52,
    "start_time": "2024-03-18T16:18:41.151Z"
   },
   {
    "duration": 1489,
    "start_time": "2024-03-18T16:18:41.206Z"
   },
   {
    "duration": 7,
    "start_time": "2024-03-18T16:18:42.698Z"
   },
   {
    "duration": 16,
    "start_time": "2024-03-18T16:18:42.708Z"
   },
   {
    "duration": 117,
    "start_time": "2024-03-18T16:18:42.727Z"
   },
   {
    "duration": 37,
    "start_time": "2024-03-18T16:18:42.846Z"
   },
   {
    "duration": 27,
    "start_time": "2024-03-18T16:18:42.891Z"
   },
   {
    "duration": 66,
    "start_time": "2024-03-18T16:21:24.274Z"
   },
   {
    "duration": 35,
    "start_time": "2024-03-18T16:21:25.366Z"
   },
   {
    "duration": 24,
    "start_time": "2024-03-18T16:21:26.066Z"
   },
   {
    "duration": 3,
    "start_time": "2024-03-18T16:22:50.818Z"
   },
   {
    "duration": 41,
    "start_time": "2024-03-18T16:22:52.040Z"
   },
   {
    "duration": 45,
    "start_time": "2024-03-18T16:22:52.710Z"
   },
   {
    "duration": 14,
    "start_time": "2024-03-18T16:23:05.119Z"
   },
   {
    "duration": 10214,
    "start_time": "2024-03-18T16:25:55.980Z"
   },
   {
    "duration": 972,
    "start_time": "2024-03-18T16:26:06.197Z"
   },
   {
    "duration": 36,
    "start_time": "2024-03-18T16:26:07.170Z"
   },
   {
    "duration": 7,
    "start_time": "2024-03-18T16:26:07.208Z"
   },
   {
    "duration": 21,
    "start_time": "2024-03-18T16:26:07.218Z"
   },
   {
    "duration": 74,
    "start_time": "2024-03-18T16:26:07.241Z"
   },
   {
    "duration": 562,
    "start_time": "2024-03-18T16:26:07.317Z"
   },
   {
    "duration": 0,
    "start_time": "2024-03-18T16:26:07.881Z"
   },
   {
    "duration": 0,
    "start_time": "2024-03-18T16:26:07.883Z"
   },
   {
    "duration": 0,
    "start_time": "2024-03-18T16:26:07.885Z"
   },
   {
    "duration": 0,
    "start_time": "2024-03-18T16:26:07.886Z"
   },
   {
    "duration": 0,
    "start_time": "2024-03-18T16:26:07.888Z"
   },
   {
    "duration": 0,
    "start_time": "2024-03-18T16:26:07.890Z"
   },
   {
    "duration": 7292,
    "start_time": "2024-03-18T16:26:39.982Z"
   },
   {
    "duration": 968,
    "start_time": "2024-03-18T16:26:47.276Z"
   },
   {
    "duration": 26,
    "start_time": "2024-03-18T16:26:48.245Z"
   },
   {
    "duration": 3,
    "start_time": "2024-03-18T16:26:48.273Z"
   },
   {
    "duration": 4,
    "start_time": "2024-03-18T16:26:48.291Z"
   },
   {
    "duration": 49,
    "start_time": "2024-03-18T16:26:48.296Z"
   },
   {
    "duration": 75,
    "start_time": "2024-03-18T16:26:48.346Z"
   },
   {
    "duration": 1453,
    "start_time": "2024-03-18T16:26:48.423Z"
   },
   {
    "duration": 4,
    "start_time": "2024-03-18T16:26:49.877Z"
   },
   {
    "duration": 30,
    "start_time": "2024-03-18T16:26:49.883Z"
   },
   {
    "duration": 111,
    "start_time": "2024-03-18T16:26:49.915Z"
   },
   {
    "duration": 34,
    "start_time": "2024-03-18T16:26:50.028Z"
   },
   {
    "duration": 32,
    "start_time": "2024-03-18T16:26:50.064Z"
   },
   {
    "duration": 6,
    "start_time": "2024-03-18T16:29:14.246Z"
   },
   {
    "duration": 5,
    "start_time": "2024-03-18T16:29:21.183Z"
   },
   {
    "duration": 10,
    "start_time": "2024-03-18T16:29:53.732Z"
   },
   {
    "duration": 7397,
    "start_time": "2024-03-18T16:30:01.259Z"
   },
   {
    "duration": 954,
    "start_time": "2024-03-18T16:30:08.658Z"
   },
   {
    "duration": 47,
    "start_time": "2024-03-18T16:30:09.613Z"
   },
   {
    "duration": 46,
    "start_time": "2024-03-18T16:30:09.661Z"
   },
   {
    "duration": 3,
    "start_time": "2024-03-18T16:30:09.710Z"
   },
   {
    "duration": 10,
    "start_time": "2024-03-18T16:30:09.715Z"
   },
   {
    "duration": 52,
    "start_time": "2024-03-18T16:30:09.726Z"
   },
   {
    "duration": 116,
    "start_time": "2024-03-18T16:30:09.780Z"
   },
   {
    "duration": 1437,
    "start_time": "2024-03-18T16:30:09.897Z"
   },
   {
    "duration": 6,
    "start_time": "2024-03-18T16:30:11.336Z"
   },
   {
    "duration": 87,
    "start_time": "2024-03-18T16:30:11.344Z"
   },
   {
    "duration": 34,
    "start_time": "2024-03-18T16:30:11.433Z"
   },
   {
    "duration": 40,
    "start_time": "2024-03-18T16:30:11.469Z"
   },
   {
    "duration": 7369,
    "start_time": "2024-03-18T16:30:29.599Z"
   },
   {
    "duration": 963,
    "start_time": "2024-03-18T16:30:36.970Z"
   },
   {
    "duration": 42,
    "start_time": "2024-03-18T16:30:37.935Z"
   },
   {
    "duration": 27,
    "start_time": "2024-03-18T16:30:37.979Z"
   },
   {
    "duration": 17,
    "start_time": "2024-03-18T16:30:38.008Z"
   },
   {
    "duration": 15,
    "start_time": "2024-03-18T16:30:38.027Z"
   },
   {
    "duration": 57,
    "start_time": "2024-03-18T16:30:54.621Z"
   },
   {
    "duration": 9456,
    "start_time": "2024-03-18T16:31:03.668Z"
   },
   {
    "duration": 3438,
    "start_time": "2024-03-18T16:31:13.126Z"
   },
   {
    "duration": 46,
    "start_time": "2024-03-18T16:31:16.566Z"
   },
   {
    "duration": 29,
    "start_time": "2024-03-18T16:31:16.616Z"
   },
   {
    "duration": 35,
    "start_time": "2024-03-18T16:31:16.647Z"
   },
   {
    "duration": 89,
    "start_time": "2024-03-18T16:31:16.683Z"
   },
   {
    "duration": 92,
    "start_time": "2024-03-18T16:31:16.773Z"
   },
   {
    "duration": 9466,
    "start_time": "2024-03-18T16:31:16.866Z"
   },
   {
    "duration": 2051,
    "start_time": "2024-03-18T16:31:26.333Z"
   },
   {
    "duration": 59,
    "start_time": "2024-03-18T16:31:28.386Z"
   },
   {
    "duration": 10053,
    "start_time": "2024-03-18T16:31:28.447Z"
   },
   {
    "duration": 46495,
    "start_time": "2024-03-18T16:31:38.501Z"
   },
   {
    "duration": 52,
    "start_time": "2024-03-18T16:32:34.209Z"
   },
   {
    "duration": 7627,
    "start_time": "2024-03-18T16:33:07.713Z"
   },
   {
    "duration": 3373,
    "start_time": "2024-03-18T16:33:15.343Z"
   },
   {
    "duration": 41,
    "start_time": "2024-03-18T16:33:18.718Z"
   },
   {
    "duration": 25,
    "start_time": "2024-03-18T16:33:18.760Z"
   },
   {
    "duration": 8,
    "start_time": "2024-03-18T16:33:18.792Z"
   },
   {
    "duration": 22,
    "start_time": "2024-03-18T16:33:18.802Z"
   },
   {
    "duration": 7,
    "start_time": "2024-03-18T16:33:18.827Z"
   },
   {
    "duration": 595,
    "start_time": "2024-03-18T16:33:18.836Z"
   },
   {
    "duration": 1453,
    "start_time": "2024-03-18T16:33:19.432Z"
   },
   {
    "duration": 9,
    "start_time": "2024-03-18T16:33:20.887Z"
   },
   {
    "duration": 708,
    "start_time": "2024-03-18T16:33:20.898Z"
   },
   {
    "duration": 4089,
    "start_time": "2024-03-18T16:33:21.608Z"
   },
   {
    "duration": 295,
    "start_time": "2024-03-18T16:33:25.702Z"
   },
   {
    "duration": 6,
    "start_time": "2024-03-18T16:34:14.136Z"
   },
   {
    "duration": 7411,
    "start_time": "2024-03-18T16:37:37.092Z"
   },
   {
    "duration": 950,
    "start_time": "2024-03-18T16:37:44.505Z"
   },
   {
    "duration": 47,
    "start_time": "2024-03-18T16:37:45.456Z"
   },
   {
    "duration": 28,
    "start_time": "2024-03-18T16:37:45.505Z"
   },
   {
    "duration": 31,
    "start_time": "2024-03-18T16:37:45.534Z"
   },
   {
    "duration": 39,
    "start_time": "2024-03-18T16:37:45.567Z"
   },
   {
    "duration": 46,
    "start_time": "2024-03-18T16:37:45.608Z"
   },
   {
    "duration": 632,
    "start_time": "2024-03-18T16:37:45.656Z"
   },
   {
    "duration": 1470,
    "start_time": "2024-03-18T16:37:46.290Z"
   },
   {
    "duration": 8,
    "start_time": "2024-03-18T16:37:47.763Z"
   },
   {
    "duration": 645,
    "start_time": "2024-03-18T16:37:47.772Z"
   },
   {
    "duration": 4476,
    "start_time": "2024-03-18T16:37:48.419Z"
   },
   {
    "duration": 302,
    "start_time": "2024-03-18T16:37:52.899Z"
   },
   {
    "duration": 141,
    "start_time": "2024-03-18T16:37:53.203Z"
   },
   {
    "duration": 0,
    "start_time": "2024-03-18T16:37:53.346Z"
   },
   {
    "duration": 0,
    "start_time": "2024-03-18T16:37:53.347Z"
   },
   {
    "duration": 0,
    "start_time": "2024-03-18T16:37:53.349Z"
   },
   {
    "duration": 3,
    "start_time": "2024-03-18T16:38:01.315Z"
   },
   {
    "duration": 3,
    "start_time": "2024-03-18T16:38:02.613Z"
   },
   {
    "duration": 12,
    "start_time": "2024-03-18T16:38:03.438Z"
   },
   {
    "duration": 4,
    "start_time": "2024-03-18T16:38:26.542Z"
   },
   {
    "duration": 11,
    "start_time": "2024-03-18T16:38:27.997Z"
   },
   {
    "duration": 162,
    "start_time": "2024-03-18T16:38:59.163Z"
   },
   {
    "duration": 0,
    "start_time": "2024-03-18T16:38:59.327Z"
   },
   {
    "duration": 0,
    "start_time": "2024-03-18T16:38:59.329Z"
   },
   {
    "duration": 0,
    "start_time": "2024-03-18T16:38:59.330Z"
   },
   {
    "duration": 0,
    "start_time": "2024-03-18T16:38:59.332Z"
   },
   {
    "duration": 0,
    "start_time": "2024-03-18T16:38:59.333Z"
   },
   {
    "duration": 0,
    "start_time": "2024-03-18T16:38:59.335Z"
   },
   {
    "duration": 0,
    "start_time": "2024-03-18T16:38:59.336Z"
   },
   {
    "duration": 0,
    "start_time": "2024-03-18T16:38:59.337Z"
   },
   {
    "duration": 0,
    "start_time": "2024-03-18T16:38:59.338Z"
   },
   {
    "duration": 0,
    "start_time": "2024-03-18T16:38:59.339Z"
   },
   {
    "duration": 0,
    "start_time": "2024-03-18T16:38:59.340Z"
   },
   {
    "duration": 0,
    "start_time": "2024-03-18T16:38:59.341Z"
   },
   {
    "duration": 0,
    "start_time": "2024-03-18T16:38:59.342Z"
   },
   {
    "duration": 0,
    "start_time": "2024-03-18T16:38:59.343Z"
   },
   {
    "duration": 0,
    "start_time": "2024-03-18T16:38:59.344Z"
   },
   {
    "duration": 0,
    "start_time": "2024-03-18T16:38:59.345Z"
   },
   {
    "duration": 7403,
    "start_time": "2024-03-18T16:39:15.763Z"
   },
   {
    "duration": 955,
    "start_time": "2024-03-18T16:39:23.169Z"
   },
   {
    "duration": 42,
    "start_time": "2024-03-18T16:39:24.126Z"
   },
   {
    "duration": 39,
    "start_time": "2024-03-18T16:39:24.171Z"
   },
   {
    "duration": 4,
    "start_time": "2024-03-18T16:39:24.212Z"
   },
   {
    "duration": 7,
    "start_time": "2024-03-18T16:39:24.217Z"
   },
   {
    "duration": 29,
    "start_time": "2024-03-18T16:39:24.225Z"
   },
   {
    "duration": 596,
    "start_time": "2024-03-18T16:39:24.256Z"
   },
   {
    "duration": 1481,
    "start_time": "2024-03-18T16:39:24.854Z"
   },
   {
    "duration": 8,
    "start_time": "2024-03-18T16:39:26.337Z"
   },
   {
    "duration": 697,
    "start_time": "2024-03-18T16:39:26.347Z"
   },
   {
    "duration": 5547,
    "start_time": "2024-03-18T16:39:27.046Z"
   },
   {
    "duration": 319,
    "start_time": "2024-03-18T16:39:32.596Z"
   },
   {
    "duration": 3,
    "start_time": "2024-03-18T16:39:32.918Z"
   },
   {
    "duration": 88,
    "start_time": "2024-03-18T16:39:32.922Z"
   },
   {
    "duration": 23,
    "start_time": "2024-03-18T16:39:33.012Z"
   },
   {
    "duration": 192,
    "start_time": "2024-03-18T16:39:33.037Z"
   },
   {
    "duration": 5,
    "start_time": "2024-03-18T16:40:08.162Z"
   },
   {
    "duration": 108,
    "start_time": "2024-03-18T16:40:14.487Z"
   },
   {
    "duration": 21888,
    "start_time": "2024-03-19T11:04:17.319Z"
   },
   {
    "duration": 2300,
    "start_time": "2024-03-19T11:04:39.209Z"
   },
   {
    "duration": 37,
    "start_time": "2024-03-19T11:04:41.510Z"
   },
   {
    "duration": 32,
    "start_time": "2024-03-19T11:04:41.549Z"
   },
   {
    "duration": 2,
    "start_time": "2024-03-19T11:04:41.583Z"
   },
   {
    "duration": 24,
    "start_time": "2024-03-19T11:04:41.586Z"
   },
   {
    "duration": 5,
    "start_time": "2024-03-19T11:04:41.611Z"
   },
   {
    "duration": 528,
    "start_time": "2024-03-19T11:04:41.617Z"
   },
   {
    "duration": 1181,
    "start_time": "2024-03-19T11:04:42.146Z"
   },
   {
    "duration": 16,
    "start_time": "2024-03-19T11:04:43.329Z"
   },
   {
    "duration": 561,
    "start_time": "2024-03-19T11:04:43.346Z"
   },
   {
    "duration": 3738,
    "start_time": "2024-03-19T11:04:43.908Z"
   },
   {
    "duration": 268,
    "start_time": "2024-03-19T11:04:47.648Z"
   },
   {
    "duration": 3,
    "start_time": "2024-03-19T11:04:47.917Z"
   },
   {
    "duration": 6,
    "start_time": "2024-03-19T11:04:47.921Z"
   },
   {
    "duration": 11,
    "start_time": "2024-03-19T11:04:47.928Z"
   },
   {
    "duration": 84146,
    "start_time": "2024-03-19T11:04:47.945Z"
   },
   {
    "duration": 4,
    "start_time": "2024-03-19T11:06:12.093Z"
   },
   {
    "duration": 4,
    "start_time": "2024-03-19T11:07:39.790Z"
   },
   {
    "duration": 243172,
    "start_time": "2024-03-19T11:08:13.778Z"
   },
   {
    "duration": 23156,
    "start_time": "2024-03-20T04:27:18.189Z"
   },
   {
    "duration": 2439,
    "start_time": "2024-03-20T04:27:41.347Z"
   },
   {
    "duration": 39,
    "start_time": "2024-03-20T04:27:43.788Z"
   },
   {
    "duration": 24,
    "start_time": "2024-03-20T04:27:43.829Z"
   },
   {
    "duration": 4,
    "start_time": "2024-03-20T04:27:43.854Z"
   },
   {
    "duration": 23,
    "start_time": "2024-03-20T04:27:43.860Z"
   },
   {
    "duration": 16,
    "start_time": "2024-03-20T04:27:43.884Z"
   },
   {
    "duration": 542,
    "start_time": "2024-03-20T04:27:58.027Z"
   },
   {
    "duration": 516,
    "start_time": "2024-03-20T04:28:01.052Z"
   },
   {
    "duration": 5148,
    "start_time": "2024-03-20T04:28:26.578Z"
   },
   {
    "duration": 6666,
    "start_time": "2024-03-20T04:28:37.690Z"
   },
   {
    "duration": 884,
    "start_time": "2024-03-20T04:28:44.358Z"
   },
   {
    "duration": 26,
    "start_time": "2024-03-20T04:28:45.243Z"
   },
   {
    "duration": 13,
    "start_time": "2024-03-20T04:28:45.271Z"
   },
   {
    "duration": 42,
    "start_time": "2024-03-20T04:28:45.287Z"
   },
   {
    "duration": 6,
    "start_time": "2024-03-20T04:28:45.331Z"
   },
   {
    "duration": 14,
    "start_time": "2024-03-20T04:28:45.339Z"
   },
   {
    "duration": 605,
    "start_time": "2024-03-20T04:28:45.354Z"
   },
   {
    "duration": 2749,
    "start_time": "2024-03-20T04:28:45.961Z"
   },
   {
    "duration": 7,
    "start_time": "2024-03-20T04:28:48.712Z"
   },
   {
    "duration": 622,
    "start_time": "2024-03-20T04:28:48.720Z"
   },
   {
    "duration": 4451,
    "start_time": "2024-03-20T04:28:49.344Z"
   },
   {
    "duration": 200,
    "start_time": "2024-03-20T04:28:53.883Z"
   },
   {
    "duration": 3,
    "start_time": "2024-03-20T04:28:54.085Z"
   },
   {
    "duration": 4,
    "start_time": "2024-03-20T04:28:54.089Z"
   },
   {
    "duration": 6,
    "start_time": "2024-03-20T04:28:54.095Z"
   },
   {
    "duration": 6646,
    "start_time": "2024-03-20T04:30:06.600Z"
   },
   {
    "duration": 885,
    "start_time": "2024-03-20T04:30:13.248Z"
   },
   {
    "duration": 26,
    "start_time": "2024-03-20T04:30:14.134Z"
   },
   {
    "duration": 3,
    "start_time": "2024-03-20T04:30:14.161Z"
   },
   {
    "duration": 16,
    "start_time": "2024-03-20T04:30:14.166Z"
   },
   {
    "duration": 6,
    "start_time": "2024-03-20T04:30:14.183Z"
   },
   {
    "duration": 5,
    "start_time": "2024-03-20T04:30:14.190Z"
   },
   {
    "duration": 572,
    "start_time": "2024-03-20T04:30:14.197Z"
   },
   {
    "duration": 431,
    "start_time": "2024-03-20T04:30:14.771Z"
   },
   {
    "duration": 0,
    "start_time": "2024-03-20T04:30:15.204Z"
   },
   {
    "duration": 0,
    "start_time": "2024-03-20T04:30:15.205Z"
   },
   {
    "duration": 0,
    "start_time": "2024-03-20T04:30:15.207Z"
   },
   {
    "duration": 0,
    "start_time": "2024-03-20T04:30:15.208Z"
   },
   {
    "duration": 0,
    "start_time": "2024-03-20T04:30:15.210Z"
   },
   {
    "duration": 0,
    "start_time": "2024-03-20T04:30:15.211Z"
   },
   {
    "duration": 0,
    "start_time": "2024-03-20T04:30:15.212Z"
   },
   {
    "duration": 0,
    "start_time": "2024-03-20T04:30:15.213Z"
   },
   {
    "duration": 0,
    "start_time": "2024-03-20T04:30:15.214Z"
   },
   {
    "duration": 4,
    "start_time": "2024-03-20T04:30:28.678Z"
   },
   {
    "duration": 543,
    "start_time": "2024-03-20T04:30:32.565Z"
   },
   {
    "duration": 71105,
    "start_time": "2024-03-20T04:30:35.265Z"
   },
   {
    "duration": 11,
    "start_time": "2024-03-20T04:31:52.491Z"
   },
   {
    "duration": 69,
    "start_time": "2024-03-20T04:31:53.603Z"
   },
   {
    "duration": 24,
    "start_time": "2024-03-20T04:32:06.980Z"
   },
   {
    "duration": 3,
    "start_time": "2024-03-20T04:33:32.617Z"
   },
   {
    "duration": 69194,
    "start_time": "2024-03-20T04:33:35.142Z"
   },
   {
    "duration": 15,
    "start_time": "2024-03-20T04:35:12.993Z"
   },
   {
    "duration": 7,
    "start_time": "2024-03-20T04:35:17.593Z"
   },
   {
    "duration": 346,
    "start_time": "2024-03-20T04:35:18.380Z"
   },
   {
    "duration": 5905,
    "start_time": "2024-03-20T04:35:21.780Z"
   },
   {
    "duration": 285,
    "start_time": "2024-03-20T04:35:27.688Z"
   },
   {
    "duration": 548,
    "start_time": "2024-03-20T04:35:32.756Z"
   },
   {
    "duration": 4215,
    "start_time": "2024-03-20T04:35:34.168Z"
   },
   {
    "duration": 284,
    "start_time": "2024-03-20T04:35:38.386Z"
   },
   {
    "duration": 2,
    "start_time": "2024-03-20T04:35:43.781Z"
   },
   {
    "duration": 3,
    "start_time": "2024-03-20T04:35:44.380Z"
   },
   {
    "duration": 5,
    "start_time": "2024-03-20T04:35:45.168Z"
   },
   {
    "duration": 243924,
    "start_time": "2024-03-20T04:35:45.879Z"
   },
   {
    "duration": 3,
    "start_time": "2024-03-20T04:39:49.805Z"
   },
   {
    "duration": 883,
    "start_time": "2024-03-20T04:41:06.109Z"
   },
   {
    "duration": 143,
    "start_time": "2024-03-20T04:41:57.847Z"
   },
   {
    "duration": 100,
    "start_time": "2024-03-20T04:43:53.861Z"
   },
   {
    "duration": 110,
    "start_time": "2024-03-20T04:44:12.273Z"
   },
   {
    "duration": 100,
    "start_time": "2024-03-20T04:44:40.361Z"
   },
   {
    "duration": 107,
    "start_time": "2024-03-20T04:45:59.187Z"
   },
   {
    "duration": 633,
    "start_time": "2024-03-20T05:35:11.115Z"
   },
   {
    "duration": 7036,
    "start_time": "2024-03-20T05:35:24.662Z"
   },
   {
    "duration": 984,
    "start_time": "2024-03-20T05:35:31.700Z"
   },
   {
    "duration": 10,
    "start_time": "2024-03-20T05:35:32.686Z"
   },
   {
    "duration": 198,
    "start_time": "2024-03-20T05:35:32.698Z"
   },
   {
    "duration": 4,
    "start_time": "2024-03-20T05:35:32.898Z"
   },
   {
    "duration": 3,
    "start_time": "2024-03-20T05:35:39.304Z"
   },
   {
    "duration": 3,
    "start_time": "2024-03-20T05:35:39.936Z"
   },
   {
    "duration": 629,
    "start_time": "2024-03-20T05:35:40.548Z"
   },
   {
    "duration": 8990,
    "start_time": "2024-03-20T05:35:59.699Z"
   },
   {
    "duration": 1145008,
    "start_time": "2024-03-20T05:36:08.691Z"
   },
   {
    "duration": 1671,
    "start_time": "2024-03-20T05:55:13.704Z"
   },
   {
    "duration": 59,
    "start_time": "2024-03-20T05:55:15.381Z"
   },
   {
    "duration": 9091,
    "start_time": "2024-03-20T05:55:15.442Z"
   },
   {
    "duration": 39048,
    "start_time": "2024-03-20T05:55:24.534Z"
   },
   {
    "duration": 3119,
    "start_time": "2024-03-20T05:56:03.584Z"
   },
   {
    "duration": 3,
    "start_time": "2024-03-20T05:56:06.704Z"
   },
   {
    "duration": 4,
    "start_time": "2024-03-20T05:56:06.709Z"
   },
   {
    "duration": 7,
    "start_time": "2024-03-20T05:56:06.715Z"
   },
   {
    "duration": 8527,
    "start_time": "2024-03-20T06:33:30.316Z"
   },
   {
    "duration": 2407,
    "start_time": "2024-03-20T06:33:38.845Z"
   },
   {
    "duration": 10,
    "start_time": "2024-03-20T06:33:41.253Z"
   },
   {
    "duration": 202,
    "start_time": "2024-03-20T06:33:41.264Z"
   },
   {
    "duration": 3,
    "start_time": "2024-03-20T06:33:41.469Z"
   },
   {
    "duration": 5,
    "start_time": "2024-03-20T06:33:41.481Z"
   },
   {
    "duration": 7,
    "start_time": "2024-03-20T06:33:41.488Z"
   },
   {
    "duration": 621,
    "start_time": "2024-03-20T06:33:41.497Z"
   },
   {
    "duration": 8611,
    "start_time": "2024-03-20T06:33:42.120Z"
   },
   {
    "duration": 1122262,
    "start_time": "2024-03-20T06:33:50.733Z"
   },
   {
    "duration": 1710,
    "start_time": "2024-03-20T06:52:32.997Z"
   },
   {
    "duration": 73,
    "start_time": "2024-03-20T06:52:34.709Z"
   },
   {
    "duration": 9237,
    "start_time": "2024-03-20T06:52:34.784Z"
   },
   {
    "duration": 40459,
    "start_time": "2024-03-20T06:52:44.024Z"
   },
   {
    "duration": 3067,
    "start_time": "2024-03-20T06:53:24.486Z"
   },
   {
    "duration": 3,
    "start_time": "2024-03-20T06:53:27.554Z"
   },
   {
    "duration": 20,
    "start_time": "2024-03-20T06:53:27.559Z"
   },
   {
    "duration": 9,
    "start_time": "2024-03-20T06:53:27.580Z"
   },
   {
    "duration": 50,
    "start_time": "2024-03-20T08:11:57.608Z"
   },
   {
    "duration": 8396,
    "start_time": "2024-03-20T08:12:10.034Z"
   },
   {
    "duration": 2396,
    "start_time": "2024-03-20T08:13:49.035Z"
   },
   {
    "duration": 9,
    "start_time": "2024-03-20T08:13:51.433Z"
   },
   {
    "duration": 210,
    "start_time": "2024-03-20T08:13:51.444Z"
   },
   {
    "duration": 3,
    "start_time": "2024-03-20T08:13:55.098Z"
   },
   {
    "duration": 3,
    "start_time": "2024-03-20T08:13:55.911Z"
   },
   {
    "duration": 3,
    "start_time": "2024-03-20T08:13:56.485Z"
   },
   {
    "duration": 612,
    "start_time": "2024-03-20T08:13:58.247Z"
   },
   {
    "duration": 8716,
    "start_time": "2024-03-20T08:14:02.510Z"
   },
   {
    "duration": 1183834,
    "start_time": "2024-03-20T08:14:11.228Z"
   },
   {
    "duration": 1697,
    "start_time": "2024-03-20T08:33:55.063Z"
   },
   {
    "duration": 71,
    "start_time": "2024-03-20T08:33:56.762Z"
   },
   {
    "duration": 9384,
    "start_time": "2024-03-20T08:33:56.834Z"
   },
   {
    "duration": 43179,
    "start_time": "2024-03-20T08:34:06.220Z"
   },
   {
    "duration": 3230,
    "start_time": "2024-03-20T08:34:49.482Z"
   },
   {
    "duration": 8867,
    "start_time": "2024-03-20T08:47:27.625Z"
   },
   {
    "duration": 2439,
    "start_time": "2024-03-20T08:47:36.494Z"
   },
   {
    "duration": 9,
    "start_time": "2024-03-20T08:47:44.324Z"
   },
   {
    "duration": 212,
    "start_time": "2024-03-20T08:47:45.036Z"
   },
   {
    "duration": 3,
    "start_time": "2024-03-20T08:47:46.886Z"
   },
   {
    "duration": 4,
    "start_time": "2024-03-20T08:47:47.976Z"
   },
   {
    "duration": 4,
    "start_time": "2024-03-20T08:47:48.611Z"
   },
   {
    "duration": 8740,
    "start_time": "2024-03-20T08:47:49.674Z"
   },
   {
    "duration": 1177772,
    "start_time": "2024-03-20T08:47:58.416Z"
   },
   {
    "duration": 116,
    "start_time": "2024-03-20T09:07:36.190Z"
   },
   {
    "duration": 11888,
    "start_time": "2024-03-20T09:07:36.308Z"
   },
   {
    "duration": 32985,
    "start_time": "2024-03-20T09:07:48.198Z"
   },
   {
    "duration": 117,
    "start_time": "2024-03-20T09:08:21.186Z"
   },
   {
    "duration": 270,
    "start_time": "2024-03-20T09:08:21.304Z"
   },
   {
    "duration": 46,
    "start_time": "2024-03-20T09:11:12.611Z"
   },
   {
    "duration": 0,
    "start_time": "2024-03-20T09:11:12.659Z"
   },
   {
    "duration": 8270,
    "start_time": "2024-03-20T09:24:11.443Z"
   },
   {
    "duration": 2384,
    "start_time": "2024-03-20T09:24:19.715Z"
   },
   {
    "duration": 9,
    "start_time": "2024-03-20T09:24:22.101Z"
   },
   {
    "duration": 204,
    "start_time": "2024-03-20T09:24:22.113Z"
   },
   {
    "duration": 5,
    "start_time": "2024-03-20T09:24:22.318Z"
   },
   {
    "duration": 11,
    "start_time": "2024-03-20T09:24:22.324Z"
   },
   {
    "duration": 7,
    "start_time": "2024-03-20T09:24:22.337Z"
   },
   {
    "duration": 8652,
    "start_time": "2024-03-20T09:24:22.346Z"
   },
   {
    "duration": 1146644,
    "start_time": "2024-03-20T09:24:31.000Z"
   },
   {
    "duration": 101,
    "start_time": "2024-03-20T09:43:37.646Z"
   },
   {
    "duration": 11605,
    "start_time": "2024-03-20T09:43:37.749Z"
   },
   {
    "duration": 29327,
    "start_time": "2024-03-20T09:43:49.356Z"
   },
   {
    "duration": 111,
    "start_time": "2024-03-20T09:44:18.685Z"
   },
   {
    "duration": 8609,
    "start_time": "2024-03-20T09:49:10.421Z"
   },
   {
    "duration": 2342,
    "start_time": "2024-03-20T09:49:19.032Z"
   },
   {
    "duration": 10,
    "start_time": "2024-03-20T09:49:21.376Z"
   },
   {
    "duration": 211,
    "start_time": "2024-03-20T09:49:21.388Z"
   },
   {
    "duration": 10,
    "start_time": "2024-03-20T09:49:21.602Z"
   },
   {
    "duration": 4,
    "start_time": "2024-03-20T09:49:21.614Z"
   },
   {
    "duration": 11,
    "start_time": "2024-03-20T09:49:21.619Z"
   },
   {
    "duration": 8,
    "start_time": "2024-03-20T09:49:21.632Z"
   },
   {
    "duration": 565,
    "start_time": "2024-03-20T09:49:21.641Z"
   },
   {
    "duration": 72013,
    "start_time": "2024-03-20T09:49:22.208Z"
   },
   {
    "duration": 10,
    "start_time": "2024-03-20T09:50:34.223Z"
   },
   {
    "duration": 702,
    "start_time": "2024-03-20T09:50:34.235Z"
   },
   {
    "duration": 89,
    "start_time": "2024-03-20T09:50:34.939Z"
   },
   {
    "duration": 6,
    "start_time": "2024-03-20T09:50:35.031Z"
   },
   {
    "duration": 613,
    "start_time": "2024-03-20T09:50:35.039Z"
   },
   {
    "duration": 0,
    "start_time": "2024-03-20T09:50:35.653Z"
   },
   {
    "duration": 0,
    "start_time": "2024-03-20T09:50:35.655Z"
   },
   {
    "duration": 0,
    "start_time": "2024-03-20T09:50:35.656Z"
   },
   {
    "duration": 0,
    "start_time": "2024-03-20T09:50:35.657Z"
   },
   {
    "duration": 0,
    "start_time": "2024-03-20T09:50:35.658Z"
   },
   {
    "duration": 0,
    "start_time": "2024-03-20T09:50:35.659Z"
   },
   {
    "duration": 0,
    "start_time": "2024-03-20T09:50:35.661Z"
   },
   {
    "duration": 0,
    "start_time": "2024-03-20T09:50:35.662Z"
   },
   {
    "duration": 0,
    "start_time": "2024-03-20T09:50:35.682Z"
   },
   {
    "duration": 584,
    "start_time": "2024-03-20T09:51:00.861Z"
   },
   {
    "duration": 501,
    "start_time": "2024-03-20T09:52:04.086Z"
   },
   {
    "duration": 9028,
    "start_time": "2024-03-20T09:52:13.811Z"
   },
   {
    "duration": 11,
    "start_time": "2024-03-20T09:52:22.840Z"
   },
   {
    "duration": 0,
    "start_time": "2024-03-20T09:52:22.852Z"
   },
   {
    "duration": 787,
    "start_time": "2024-03-20T09:52:34.050Z"
   },
   {
    "duration": 4075,
    "start_time": "2024-03-20T09:52:35.249Z"
   },
   {
    "duration": 10,
    "start_time": "2024-03-20T09:52:51.986Z"
   },
   {
    "duration": 3,
    "start_time": "2024-03-20T09:53:04.825Z"
   },
   {
    "duration": 6,
    "start_time": "2024-03-20T09:53:09.676Z"
   },
   {
    "duration": 3,
    "start_time": "2024-03-20T09:53:22.412Z"
   },
   {
    "duration": 5,
    "start_time": "2024-03-20T09:53:28.088Z"
   },
   {
    "duration": 18406,
    "start_time": "2024-03-20T09:53:30.237Z"
   },
   {
    "duration": 20373,
    "start_time": "2024-03-20T09:54:13.763Z"
   },
   {
    "duration": 4,
    "start_time": "2024-03-20T09:54:34.138Z"
   },
   {
    "duration": 6837,
    "start_time": "2024-03-20T09:55:09.348Z"
   },
   {
    "duration": 902,
    "start_time": "2024-03-20T09:55:16.187Z"
   },
   {
    "duration": 11,
    "start_time": "2024-03-20T09:55:17.090Z"
   },
   {
    "duration": 208,
    "start_time": "2024-03-20T09:55:17.102Z"
   },
   {
    "duration": 17,
    "start_time": "2024-03-20T09:55:17.312Z"
   },
   {
    "duration": 4,
    "start_time": "2024-03-20T09:55:17.331Z"
   },
   {
    "duration": 7,
    "start_time": "2024-03-20T09:55:17.337Z"
   },
   {
    "duration": 13,
    "start_time": "2024-03-20T09:55:17.345Z"
   },
   {
    "duration": 2756,
    "start_time": "2024-03-20T09:55:17.360Z"
   },
   {
    "duration": 355547,
    "start_time": "2024-03-20T09:55:20.118Z"
   },
   {
    "duration": 43,
    "start_time": "2024-03-20T10:01:15.667Z"
   },
   {
    "duration": 3669,
    "start_time": "2024-03-20T10:01:15.711Z"
   },
   {
    "duration": 6307,
    "start_time": "2024-03-20T10:01:19.382Z"
   },
   {
    "duration": 95,
    "start_time": "2024-03-20T10:01:25.692Z"
   },
   {
    "duration": 42395,
    "start_time": "2024-03-20T10:01:25.789Z"
   },
   {
    "duration": 285,
    "start_time": "2024-03-20T10:02:08.186Z"
   },
   {
    "duration": 0,
    "start_time": "2024-03-20T10:02:08.472Z"
   },
   {
    "duration": 0,
    "start_time": "2024-03-20T10:02:08.474Z"
   },
   {
    "duration": 0,
    "start_time": "2024-03-20T10:02:08.475Z"
   },
   {
    "duration": 0,
    "start_time": "2024-03-20T10:02:08.482Z"
   },
   {
    "duration": 0,
    "start_time": "2024-03-20T10:02:08.483Z"
   },
   {
    "duration": 0,
    "start_time": "2024-03-20T10:02:08.484Z"
   },
   {
    "duration": 0,
    "start_time": "2024-03-20T10:02:08.486Z"
   },
   {
    "duration": 0,
    "start_time": "2024-03-20T10:02:08.487Z"
   },
   {
    "duration": 48,
    "start_time": "2024-03-20T10:06:53.009Z"
   },
   {
    "duration": 6842,
    "start_time": "2024-03-20T10:06:57.260Z"
   },
   {
    "duration": 928,
    "start_time": "2024-03-20T10:07:04.105Z"
   },
   {
    "duration": 9,
    "start_time": "2024-03-20T10:07:05.035Z"
   },
   {
    "duration": 196,
    "start_time": "2024-03-20T10:07:05.046Z"
   },
   {
    "duration": 16,
    "start_time": "2024-03-20T10:07:05.244Z"
   },
   {
    "duration": 5,
    "start_time": "2024-03-20T10:07:05.262Z"
   },
   {
    "duration": 14,
    "start_time": "2024-03-20T10:07:05.268Z"
   },
   {
    "duration": 6,
    "start_time": "2024-03-20T10:07:05.284Z"
   },
   {
    "duration": 2711,
    "start_time": "2024-03-20T10:07:05.292Z"
   },
   {
    "duration": 360938,
    "start_time": "2024-03-20T10:07:08.005Z"
   },
   {
    "duration": 44,
    "start_time": "2024-03-20T10:13:08.945Z"
   },
   {
    "duration": 3786,
    "start_time": "2024-03-20T10:13:08.991Z"
   },
   {
    "duration": 8002,
    "start_time": "2024-03-20T10:13:12.781Z"
   },
   {
    "duration": 99,
    "start_time": "2024-03-20T10:13:20.785Z"
   },
   {
    "duration": 43797,
    "start_time": "2024-03-20T10:13:20.886Z"
   },
   {
    "duration": 3,
    "start_time": "2024-03-20T10:14:04.686Z"
   },
   {
    "duration": 90,
    "start_time": "2024-03-20T10:14:04.692Z"
   },
   {
    "duration": 8,
    "start_time": "2024-03-20T10:14:04.784Z"
   },
   {
    "duration": 163828,
    "start_time": "2024-03-20T10:14:04.793Z"
   },
   {
    "duration": 4,
    "start_time": "2024-03-20T10:16:48.622Z"
   },
   {
    "duration": 3821,
    "start_time": "2024-03-20T10:17:59.109Z"
   },
   {
    "duration": 10161,
    "start_time": "2024-03-20T10:18:02.931Z"
   },
   {
    "duration": 100,
    "start_time": "2024-03-20T10:18:13.183Z"
   },
   {
    "duration": 50197,
    "start_time": "2024-03-20T10:18:13.285Z"
   },
   {
    "duration": 46313,
    "start_time": "2024-03-20T10:19:23.611Z"
   },
   {
    "duration": 3762,
    "start_time": "2024-03-20T10:20:36.101Z"
   },
   {
    "duration": 41874,
    "start_time": "2024-03-20T10:20:39.865Z"
   },
   {
    "duration": 7645,
    "start_time": "2024-03-20T10:21:21.741Z"
   },
   {
    "duration": 98,
    "start_time": "2024-03-20T10:21:29.388Z"
   },
   {
    "duration": 9138,
    "start_time": "2024-03-20T12:05:13.034Z"
   },
   {
    "duration": 1010,
    "start_time": "2024-03-20T12:05:22.175Z"
   },
   {
    "duration": 11,
    "start_time": "2024-03-20T12:05:23.186Z"
   },
   {
    "duration": 134,
    "start_time": "2024-03-20T12:05:23.199Z"
   },
   {
    "duration": 19,
    "start_time": "2024-03-20T12:05:23.334Z"
   },
   {
    "duration": 4,
    "start_time": "2024-03-20T12:05:23.355Z"
   },
   {
    "duration": 28,
    "start_time": "2024-03-20T12:05:23.360Z"
   },
   {
    "duration": 11,
    "start_time": "2024-03-20T12:05:23.390Z"
   },
   {
    "duration": 2746,
    "start_time": "2024-03-20T12:05:23.403Z"
   },
   {
    "duration": 351482,
    "start_time": "2024-03-20T12:05:26.151Z"
   },
   {
    "duration": 33,
    "start_time": "2024-03-20T12:11:17.635Z"
   },
   {
    "duration": 3694,
    "start_time": "2024-03-20T12:11:17.682Z"
   },
   {
    "duration": 9307,
    "start_time": "2024-03-20T12:11:21.378Z"
   },
   {
    "duration": 97,
    "start_time": "2024-03-20T12:11:30.687Z"
   },
   {
    "duration": 0,
    "start_time": "2024-03-20T12:11:30.785Z"
   },
   {
    "duration": 0,
    "start_time": "2024-03-20T12:11:30.787Z"
   },
   {
    "duration": 48990,
    "start_time": "2024-03-20T12:11:53.893Z"
   },
   {
    "duration": 982104,
    "start_time": "2024-03-20T12:12:42.886Z"
   },
   {
    "duration": 9155,
    "start_time": "2024-03-20T13:16:26.274Z"
   },
   {
    "duration": 993,
    "start_time": "2024-03-20T13:16:35.431Z"
   },
   {
    "duration": 10,
    "start_time": "2024-03-20T13:16:36.426Z"
   },
   {
    "duration": 143,
    "start_time": "2024-03-20T13:16:36.437Z"
   },
   {
    "duration": 17,
    "start_time": "2024-03-20T13:16:36.582Z"
   },
   {
    "duration": 4,
    "start_time": "2024-03-20T13:16:36.600Z"
   },
   {
    "duration": 21,
    "start_time": "2024-03-20T13:16:36.606Z"
   },
   {
    "duration": 11,
    "start_time": "2024-03-20T13:16:36.629Z"
   },
   {
    "duration": 2732,
    "start_time": "2024-03-20T13:16:36.641Z"
   },
   {
    "duration": 350896,
    "start_time": "2024-03-20T13:16:39.375Z"
   },
   {
    "duration": 37,
    "start_time": "2024-03-20T13:22:30.273Z"
   },
   {
    "duration": 3821,
    "start_time": "2024-03-20T13:22:30.312Z"
   },
   {
    "duration": 6354,
    "start_time": "2024-03-20T13:22:34.135Z"
   },
   {
    "duration": 50891,
    "start_time": "2024-03-20T13:22:40.492Z"
   },
   {
    "duration": 49,
    "start_time": "2024-03-20T13:25:27.160Z"
   },
   {
    "duration": 9193,
    "start_time": "2024-03-20T13:25:36.409Z"
   },
   {
    "duration": 960,
    "start_time": "2024-03-20T13:25:45.604Z"
   },
   {
    "duration": 9,
    "start_time": "2024-03-20T13:25:46.565Z"
   },
   {
    "duration": 143,
    "start_time": "2024-03-20T13:25:46.582Z"
   },
   {
    "duration": 17,
    "start_time": "2024-03-20T13:25:46.727Z"
   },
   {
    "duration": 3,
    "start_time": "2024-03-20T13:25:46.746Z"
   },
   {
    "duration": 5,
    "start_time": "2024-03-20T13:25:46.750Z"
   },
   {
    "duration": 3,
    "start_time": "2024-03-20T13:26:21.748Z"
   },
   {
    "duration": 2736,
    "start_time": "2024-03-20T13:26:22.336Z"
   },
   {
    "duration": 9173,
    "start_time": "2024-03-20T13:26:47.760Z"
   },
   {
    "duration": 993,
    "start_time": "2024-03-20T13:26:56.935Z"
   },
   {
    "duration": 11,
    "start_time": "2024-03-20T13:26:57.930Z"
   },
   {
    "duration": 131,
    "start_time": "2024-03-20T13:26:57.943Z"
   },
   {
    "duration": 20,
    "start_time": "2024-03-20T13:26:58.075Z"
   },
   {
    "duration": 4,
    "start_time": "2024-03-20T13:26:58.097Z"
   },
   {
    "duration": 4,
    "start_time": "2024-03-20T13:26:58.102Z"
   },
   {
    "duration": 5,
    "start_time": "2024-03-20T13:26:58.107Z"
   },
   {
    "duration": 2817,
    "start_time": "2024-03-20T13:26:58.113Z"
   },
   {
    "duration": 354582,
    "start_time": "2024-03-20T13:27:00.932Z"
   },
   {
    "duration": 31,
    "start_time": "2024-03-20T13:32:55.516Z"
   },
   {
    "duration": 3769,
    "start_time": "2024-03-20T13:32:55.549Z"
   },
   {
    "duration": 51472,
    "start_time": "2024-03-20T13:32:59.319Z"
   },
   {
    "duration": 39442,
    "start_time": "2024-03-20T13:33:50.884Z"
   },
   {
    "duration": 9275,
    "start_time": "2024-03-20T13:37:05.066Z"
   },
   {
    "duration": 1014,
    "start_time": "2024-03-20T13:37:14.343Z"
   },
   {
    "duration": 10,
    "start_time": "2024-03-20T13:37:15.359Z"
   },
   {
    "duration": 145,
    "start_time": "2024-03-20T13:37:15.370Z"
   },
   {
    "duration": 18,
    "start_time": "2024-03-20T13:37:15.517Z"
   },
   {
    "duration": 40,
    "start_time": "2024-03-20T13:37:15.536Z"
   },
   {
    "duration": 25,
    "start_time": "2024-03-20T13:37:15.578Z"
   },
   {
    "duration": 15,
    "start_time": "2024-03-20T13:37:15.605Z"
   },
   {
    "duration": 2805,
    "start_time": "2024-03-20T13:37:15.622Z"
   },
   {
    "duration": 356606,
    "start_time": "2024-03-20T13:37:18.428Z"
   },
   {
    "duration": 35,
    "start_time": "2024-03-20T13:43:15.036Z"
   },
   {
    "duration": 3712,
    "start_time": "2024-03-20T13:43:15.082Z"
   },
   {
    "duration": 53792,
    "start_time": "2024-03-20T13:43:18.796Z"
   },
   {
    "duration": 1262885,
    "start_time": "2024-03-20T13:44:12.591Z"
   },
   {
    "duration": 1675793,
    "start_time": "2024-03-20T14:05:15.477Z"
   },
   {
    "duration": 2638,
    "start_time": "2024-03-20T14:33:11.272Z"
   },
   {
    "duration": 31,
    "start_time": "2024-03-20T14:39:20.774Z"
   },
   {
    "duration": 20,
    "start_time": "2024-03-20T14:40:06.337Z"
   },
   {
    "duration": 2422,
    "start_time": "2024-03-20T14:40:24.874Z"
   },
   {
    "duration": 9720,
    "start_time": "2024-03-20T14:42:59.714Z"
   },
   {
    "duration": 1006,
    "start_time": "2024-03-20T14:43:09.436Z"
   },
   {
    "duration": 10,
    "start_time": "2024-03-20T14:43:10.443Z"
   },
   {
    "duration": 136,
    "start_time": "2024-03-20T14:43:10.454Z"
   },
   {
    "duration": 4,
    "start_time": "2024-03-20T14:43:10.591Z"
   },
   {
    "duration": 27,
    "start_time": "2024-03-20T14:43:10.597Z"
   },
   {
    "duration": 3,
    "start_time": "2024-03-20T14:43:10.626Z"
   },
   {
    "duration": 8805,
    "start_time": "2024-03-20T14:43:10.631Z"
   },
   {
    "duration": 1153878,
    "start_time": "2024-03-20T14:43:19.437Z"
   },
   {
    "duration": 119,
    "start_time": "2024-03-20T15:02:33.319Z"
   },
   {
    "duration": 11498,
    "start_time": "2024-03-20T15:06:11.865Z"
   },
   {
    "duration": 2565,
    "start_time": "2024-03-20T15:06:23.365Z"
   },
   {
    "duration": 11,
    "start_time": "2024-03-20T15:06:25.932Z"
   },
   {
    "duration": 133,
    "start_time": "2024-03-20T15:06:25.945Z"
   },
   {
    "duration": 28,
    "start_time": "2024-03-20T15:06:26.080Z"
   },
   {
    "duration": 5,
    "start_time": "2024-03-20T15:06:26.110Z"
   },
   {
    "duration": 10,
    "start_time": "2024-03-20T15:06:26.116Z"
   },
   {
    "duration": 4,
    "start_time": "2024-03-20T15:06:26.128Z"
   },
   {
    "duration": 4283,
    "start_time": "2024-03-20T15:06:26.134Z"
   },
   {
    "duration": 9623,
    "start_time": "2024-03-20T15:06:54.745Z"
   },
   {
    "duration": 998,
    "start_time": "2024-03-20T15:07:04.370Z"
   },
   {
    "duration": 16,
    "start_time": "2024-03-20T15:07:05.370Z"
   },
   {
    "duration": 136,
    "start_time": "2024-03-20T15:07:05.388Z"
   },
   {
    "duration": 23,
    "start_time": "2024-03-20T15:07:05.526Z"
   },
   {
    "duration": 4,
    "start_time": "2024-03-20T15:07:05.551Z"
   },
   {
    "duration": 6,
    "start_time": "2024-03-20T15:07:05.556Z"
   },
   {
    "duration": 3,
    "start_time": "2024-03-20T15:07:05.582Z"
   },
   {
    "duration": 4178,
    "start_time": "2024-03-20T15:07:05.587Z"
   },
   {
    "duration": 562705,
    "start_time": "2024-03-20T15:07:09.767Z"
   },
   {
    "duration": 77,
    "start_time": "2024-03-20T15:16:32.474Z"
   },
   {
    "duration": 5958,
    "start_time": "2024-03-20T15:16:32.553Z"
   },
   {
    "duration": 90470,
    "start_time": "2024-03-20T15:16:38.513Z"
   },
   {
    "duration": 1970465,
    "start_time": "2024-03-20T15:18:08.985Z"
   },
   {
    "duration": 2539939,
    "start_time": "2024-03-20T15:50:59.452Z"
   },
   {
    "duration": 11,
    "start_time": "2024-03-20T16:33:46.804Z"
   },
   {
    "duration": 2920,
    "start_time": "2024-03-20T16:33:48.193Z"
   },
   {
    "duration": 113,
    "start_time": "2024-03-20T16:33:51.115Z"
   },
   {
    "duration": 25072,
    "start_time": "2024-03-21T10:36:13.473Z"
   },
   {
    "duration": 55,
    "start_time": "2024-03-21T10:36:38.547Z"
   },
   {
    "duration": 3245,
    "start_time": "2024-03-21T10:36:48.569Z"
   },
   {
    "duration": 10,
    "start_time": "2024-03-21T10:37:02.207Z"
   },
   {
    "duration": 124,
    "start_time": "2024-03-21T10:37:05.457Z"
   },
   {
    "duration": 123,
    "start_time": "2024-03-21T10:37:46.915Z"
   },
   {
    "duration": 5,
    "start_time": "2024-03-21T10:38:26.272Z"
   },
   {
    "duration": 4,
    "start_time": "2024-03-21T10:38:27.945Z"
   },
   {
    "duration": 4,
    "start_time": "2024-03-21T10:38:28.557Z"
   },
   {
    "duration": 8986,
    "start_time": "2024-03-21T10:38:30.977Z"
   },
   {
    "duration": 9591,
    "start_time": "2024-03-21T10:39:28.434Z"
   },
   {
    "duration": 62,
    "start_time": "2024-03-21T10:39:38.027Z"
   },
   {
    "duration": 1036,
    "start_time": "2024-03-21T10:39:38.091Z"
   },
   {
    "duration": 11,
    "start_time": "2024-03-21T10:40:23.397Z"
   },
   {
    "duration": 135,
    "start_time": "2024-03-21T10:40:25.485Z"
   },
   {
    "duration": 4,
    "start_time": "2024-03-21T10:40:29.971Z"
   },
   {
    "duration": 3,
    "start_time": "2024-03-21T10:40:30.659Z"
   },
   {
    "duration": 69,
    "start_time": "2024-03-21T10:40:31.222Z"
   },
   {
    "duration": 9065,
    "start_time": "2024-03-21T10:40:31.847Z"
   },
   {
    "duration": 9739,
    "start_time": "2024-03-21T11:04:11.579Z"
   },
   {
    "duration": 62,
    "start_time": "2024-03-21T11:04:21.320Z"
   },
   {
    "duration": 1002,
    "start_time": "2024-03-21T11:04:21.383Z"
   },
   {
    "duration": 10,
    "start_time": "2024-03-21T11:04:22.388Z"
   },
   {
    "duration": 183,
    "start_time": "2024-03-21T11:04:22.399Z"
   },
   {
    "duration": 4,
    "start_time": "2024-03-21T11:04:23.235Z"
   },
   {
    "duration": 3,
    "start_time": "2024-03-21T11:04:24.948Z"
   },
   {
    "duration": 3,
    "start_time": "2024-03-21T11:04:27.449Z"
   },
   {
    "duration": 8845,
    "start_time": "2024-03-21T11:04:28.785Z"
   },
   {
    "duration": 1242358,
    "start_time": "2024-03-21T11:04:37.632Z"
   },
   {
    "duration": 105,
    "start_time": "2024-03-21T11:25:19.992Z"
   },
   {
    "duration": 7025,
    "start_time": "2024-03-21T11:25:20.098Z"
   },
   {
    "duration": 816,
    "start_time": "2024-03-21T11:25:27.125Z"
   },
   {
    "duration": 0,
    "start_time": "2024-03-21T11:25:27.942Z"
   },
   {
    "duration": 0,
    "start_time": "2024-03-21T11:25:27.944Z"
   },
   {
    "duration": 800,
    "start_time": "2024-03-21T11:26:02.926Z"
   },
   {
    "duration": 680,
    "start_time": "2024-03-21T11:28:13.341Z"
   },
   {
    "duration": 16,
    "start_time": "2024-03-21T11:31:51.905Z"
   },
   {
    "duration": 3,
    "start_time": "2024-03-21T11:33:20.994Z"
   },
   {
    "duration": 719,
    "start_time": "2024-03-21T11:33:32.119Z"
   },
   {
    "duration": 5,
    "start_time": "2024-03-21T11:34:12.407Z"
   },
   {
    "duration": 555,
    "start_time": "2024-03-21T11:34:13.165Z"
   },
   {
    "duration": 4,
    "start_time": "2024-03-21T11:34:31.006Z"
   },
   {
    "duration": 656,
    "start_time": "2024-03-21T11:34:31.535Z"
   },
   {
    "duration": 4,
    "start_time": "2024-03-21T11:34:43.183Z"
   },
   {
    "duration": 670,
    "start_time": "2024-03-21T11:34:45.132Z"
   },
   {
    "duration": 18,
    "start_time": "2024-03-21T11:35:48.471Z"
   },
   {
    "duration": 5,
    "start_time": "2024-03-21T11:36:05.221Z"
   },
   {
    "duration": 8,
    "start_time": "2024-03-21T11:36:42.696Z"
   },
   {
    "duration": 673,
    "start_time": "2024-03-21T11:38:18.423Z"
   },
   {
    "duration": 5,
    "start_time": "2024-03-21T11:52:32.145Z"
   },
   {
    "duration": 10200,
    "start_time": "2024-03-21T11:52:38.573Z"
   },
   {
    "duration": 62,
    "start_time": "2024-03-21T11:52:48.780Z"
   },
   {
    "duration": 1073,
    "start_time": "2024-03-21T11:52:48.843Z"
   },
   {
    "duration": 10,
    "start_time": "2024-03-21T11:52:49.918Z"
   },
   {
    "duration": 151,
    "start_time": "2024-03-21T11:52:49.930Z"
   },
   {
    "duration": 3,
    "start_time": "2024-03-21T11:52:50.083Z"
   },
   {
    "duration": 25,
    "start_time": "2024-03-21T11:52:50.087Z"
   },
   {
    "duration": 20,
    "start_time": "2024-03-21T11:52:50.114Z"
   },
   {
    "duration": 33,
    "start_time": "2024-03-21T11:52:50.136Z"
   },
   {
    "duration": 8889,
    "start_time": "2024-03-21T11:52:50.172Z"
   },
   {
    "duration": 9542,
    "start_time": "2024-03-21T11:53:25.948Z"
   },
   {
    "duration": 49,
    "start_time": "2024-03-21T11:53:35.492Z"
   },
   {
    "duration": 1004,
    "start_time": "2024-03-21T11:53:35.543Z"
   },
   {
    "duration": 11,
    "start_time": "2024-03-21T11:53:36.549Z"
   },
   {
    "duration": 141,
    "start_time": "2024-03-21T11:53:36.561Z"
   },
   {
    "duration": 4,
    "start_time": "2024-03-21T11:53:37.146Z"
   },
   {
    "duration": 3,
    "start_time": "2024-03-21T11:53:37.846Z"
   },
   {
    "duration": 4,
    "start_time": "2024-03-21T11:53:38.596Z"
   },
   {
    "duration": 8898,
    "start_time": "2024-03-21T11:53:40.189Z"
   },
   {
    "duration": 1232152,
    "start_time": "2024-03-21T11:53:49.089Z"
   },
   {
    "duration": 110,
    "start_time": "2024-03-21T12:14:21.243Z"
   },
   {
    "duration": 7180,
    "start_time": "2024-03-21T12:14:21.355Z"
   },
   {
    "duration": 5,
    "start_time": "2024-03-21T12:14:28.536Z"
   },
   {
    "duration": 158,
    "start_time": "2024-03-21T12:14:28.542Z"
   },
   {
    "duration": 724811,
    "start_time": "2024-03-21T12:14:45.275Z"
   },
   {
    "duration": 5,
    "start_time": "2024-03-21T12:28:38.769Z"
   },
   {
    "duration": 11,
    "start_time": "2024-03-21T12:30:56.211Z"
   },
   {
    "duration": 177,
    "start_time": "2024-03-21T12:31:08.536Z"
   },
   {
    "duration": 9692,
    "start_time": "2024-03-21T12:36:06.496Z"
   },
   {
    "duration": 58,
    "start_time": "2024-03-21T12:36:16.190Z"
   },
   {
    "duration": 1076,
    "start_time": "2024-03-21T12:36:16.250Z"
   },
   {
    "duration": 10,
    "start_time": "2024-03-21T12:36:17.328Z"
   },
   {
    "duration": 148,
    "start_time": "2024-03-21T12:36:17.340Z"
   },
   {
    "duration": 3,
    "start_time": "2024-03-21T12:36:21.872Z"
   },
   {
    "duration": 3,
    "start_time": "2024-03-21T12:36:22.972Z"
   },
   {
    "duration": 4,
    "start_time": "2024-03-21T12:36:23.759Z"
   },
   {
    "duration": 9017,
    "start_time": "2024-03-21T12:36:25.209Z"
   },
   {
    "duration": 1231792,
    "start_time": "2024-03-21T12:36:34.227Z"
   },
   {
    "duration": 116,
    "start_time": "2024-03-21T12:57:06.021Z"
   },
   {
    "duration": 6996,
    "start_time": "2024-03-21T12:57:06.139Z"
   },
   {
    "duration": 1169052,
    "start_time": "2024-03-21T12:57:13.137Z"
   },
   {
    "duration": 52,
    "start_time": "2024-03-21T15:03:59.006Z"
   },
   {
    "duration": 9756,
    "start_time": "2024-03-21T15:04:38.443Z"
   },
   {
    "duration": 60,
    "start_time": "2024-03-21T15:04:48.201Z"
   },
   {
    "duration": 1082,
    "start_time": "2024-03-21T15:04:48.262Z"
   },
   {
    "duration": 10,
    "start_time": "2024-03-21T15:04:49.346Z"
   },
   {
    "duration": 145,
    "start_time": "2024-03-21T15:04:49.358Z"
   },
   {
    "duration": 4,
    "start_time": "2024-03-21T15:04:49.505Z"
   },
   {
    "duration": 3,
    "start_time": "2024-03-21T15:04:50.131Z"
   },
   {
    "duration": 3,
    "start_time": "2024-03-21T15:04:51.109Z"
   },
   {
    "duration": 8921,
    "start_time": "2024-03-21T15:04:52.018Z"
   },
   {
    "duration": 1258190,
    "start_time": "2024-03-21T15:05:00.942Z"
   },
   {
    "duration": 115,
    "start_time": "2024-03-21T15:25:59.134Z"
   },
   {
    "duration": 7212,
    "start_time": "2024-03-21T15:25:59.250Z"
   },
   {
    "duration": 722332,
    "start_time": "2024-03-21T15:26:06.463Z"
   },
   {
    "duration": 649,
    "start_time": "2024-03-21T16:22:33.992Z"
   },
   {
    "duration": 11,
    "start_time": "2024-03-21T16:23:58.981Z"
   },
   {
    "duration": 359,
    "start_time": "2024-03-21T16:24:25.094Z"
   },
   {
    "duration": 9454,
    "start_time": "2024-03-21T16:28:49.603Z"
   },
   {
    "duration": 66,
    "start_time": "2024-03-21T16:28:59.059Z"
   },
   {
    "duration": 1024,
    "start_time": "2024-03-21T16:28:59.126Z"
   },
   {
    "duration": 11,
    "start_time": "2024-03-21T16:29:00.152Z"
   },
   {
    "duration": 310,
    "start_time": "2024-03-21T16:29:00.164Z"
   },
   {
    "duration": 154,
    "start_time": "2024-03-21T16:29:00.476Z"
   },
   {
    "duration": 132,
    "start_time": "2024-03-21T16:29:00.632Z"
   },
   {
    "duration": 136,
    "start_time": "2024-03-21T16:29:00.766Z"
   },
   {
    "duration": 9534,
    "start_time": "2024-03-21T16:29:00.904Z"
   },
   {
    "duration": 1227288,
    "start_time": "2024-03-21T16:29:10.441Z"
   },
   {
    "duration": 115,
    "start_time": "2024-03-21T16:49:37.730Z"
   },
   {
    "duration": 7019,
    "start_time": "2024-03-21T16:49:37.847Z"
   },
   {
    "duration": 499918,
    "start_time": "2024-03-21T16:49:44.867Z"
   },
   {
    "duration": 6063245,
    "start_time": "2024-03-21T16:58:04.790Z"
   },
   {
    "duration": 16,
    "start_time": "2024-03-21T18:39:08.038Z"
   },
   {
    "duration": 6064,
    "start_time": "2024-03-22T08:48:26.427Z"
   },
   {
    "duration": 114,
    "start_time": "2024-03-22T08:48:35.310Z"
   },
   {
    "duration": 109,
    "start_time": "2024-03-22T09:01:44.594Z"
   },
   {
    "duration": 29531,
    "start_time": "2024-03-22T09:02:30.662Z"
   },
   {
    "duration": 81,
    "start_time": "2024-03-22T09:03:00.195Z"
   },
   {
    "duration": 3249,
    "start_time": "2024-03-22T09:03:00.278Z"
   },
   {
    "duration": 10,
    "start_time": "2024-03-22T09:03:03.529Z"
   },
   {
    "duration": 194,
    "start_time": "2024-03-22T09:03:03.542Z"
   },
   {
    "duration": 5,
    "start_time": "2024-03-22T09:03:03.738Z"
   },
   {
    "duration": 40,
    "start_time": "2024-03-22T09:03:03.744Z"
   },
   {
    "duration": 6,
    "start_time": "2024-03-22T09:03:03.785Z"
   },
   {
    "duration": 8612,
    "start_time": "2024-03-22T09:03:03.792Z"
   },
   {
    "duration": 1181159,
    "start_time": "2024-03-22T09:03:12.405Z"
   },
   {
    "duration": 106,
    "start_time": "2024-03-22T09:22:53.566Z"
   },
   {
    "duration": 6841,
    "start_time": "2024-03-22T09:22:53.681Z"
   },
   {
    "duration": 524459,
    "start_time": "2024-03-22T09:23:00.524Z"
   },
   {
    "duration": 5915978,
    "start_time": "2024-03-22T09:31:44.985Z"
   },
   {
    "duration": 16,
    "start_time": "2024-03-22T11:10:20.965Z"
   },
   {
    "duration": 273,
    "start_time": "2024-03-22T12:12:51.696Z"
   },
   {
    "duration": 27745,
    "start_time": "2024-03-22T13:25:38.656Z"
   },
   {
    "duration": 123,
    "start_time": "2024-03-22T13:26:06.403Z"
   },
   {
    "duration": 2262,
    "start_time": "2024-03-22T13:26:06.528Z"
   },
   {
    "duration": 9,
    "start_time": "2024-03-22T13:26:08.792Z"
   },
   {
    "duration": 179,
    "start_time": "2024-03-22T13:26:08.804Z"
   },
   {
    "duration": 4,
    "start_time": "2024-03-22T13:26:08.985Z"
   },
   {
    "duration": 18,
    "start_time": "2024-03-22T13:26:08.991Z"
   },
   {
    "duration": 22,
    "start_time": "2024-03-22T13:26:09.010Z"
   },
   {
    "duration": 8121,
    "start_time": "2024-03-22T13:26:09.033Z"
   },
   {
    "duration": 1355390,
    "start_time": "2024-03-22T13:26:17.156Z"
   },
   {
    "duration": 108,
    "start_time": "2024-03-22T13:48:52.548Z"
   },
   {
    "duration": 6519,
    "start_time": "2024-03-22T13:48:52.664Z"
   },
   {
    "duration": 493988,
    "start_time": "2024-03-22T13:48:59.185Z"
   }
  ],
  "kernelspec": {
   "display_name": "Python 3 (ipykernel)",
   "language": "python",
   "name": "python3"
  },
  "language_info": {
   "codemirror_mode": {
    "name": "ipython",
    "version": 3
   },
   "file_extension": ".py",
   "mimetype": "text/x-python",
   "name": "python",
   "nbconvert_exporter": "python",
   "pygments_lexer": "ipython3",
   "version": "3.10.12"
  },
  "toc": {
   "base_numbering": 1,
   "nav_menu": {},
   "number_sections": true,
   "sideBar": true,
   "skip_h1_title": true,
   "title_cell": "Содержание",
   "title_sidebar": "Contents",
   "toc_cell": true,
   "toc_position": {
    "height": "calc(100% - 180px)",
    "left": "10px",
    "top": "150px",
    "width": "165px"
   },
   "toc_section_display": true,
   "toc_window_display": true
  }
 },
 "nbformat": 4,
 "nbformat_minor": 4
}
